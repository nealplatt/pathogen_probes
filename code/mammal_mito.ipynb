{
 "cells": [
  {
   "cell_type": "markdown",
   "id": "advisory-perth",
   "metadata": {},
   "source": [
    "# mammal mitochondria"
   ]
  },
  {
   "cell_type": "code",
   "execution_count": null,
   "id": "exclusive-complement",
   "metadata": {},
   "outputs": [],
   "source": [
    "#conda activate patho_detect-phylo"
   ]
  },
  {
   "cell_type": "code",
   "execution_count": 1,
   "id": "appointed-reserve",
   "metadata": {
    "ExecuteTime": {
     "end_time": "2021-03-22T19:17:16.997586Z",
     "start_time": "2021-03-22T19:17:16.741298Z"
    }
   },
   "outputs": [],
   "source": [
    "import os\n",
    "from tqdm.notebook import tqdm\n",
    "\n"
   ]
  },
  {
   "cell_type": "code",
   "execution_count": 7,
   "id": "functioning-lesson",
   "metadata": {
    "ExecuteTime": {
     "end_time": "2021-03-22T19:18:05.218395Z",
     "start_time": "2021-03-22T19:18:05.205583Z"
    }
   },
   "outputs": [],
   "source": [
    "os.chdir('/master/nplatt/patho_detect/')"
   ]
  },
  {
   "cell_type": "code",
   "execution_count": 8,
   "id": "comfortable-society",
   "metadata": {
    "ExecuteTime": {
     "end_time": "2021-03-22T19:18:06.839722Z",
     "start_time": "2021-03-22T19:18:06.819498Z"
    }
   },
   "outputs": [],
   "source": [
    "with open('data/19047-23/samples.list') as infile:\n",
    "    samples = infile.read().splitlines()"
   ]
  },
  {
   "cell_type": "code",
   "execution_count": 4,
   "id": "stylish-hearts",
   "metadata": {
    "ExecuteTime": {
     "end_time": "2021-03-22T19:17:39.011126Z",
     "start_time": "2021-03-22T19:17:38.999718Z"
    }
   },
   "outputs": [],
   "source": [
    "os.mkdir('results/mammal_mito_assembly')"
   ]
  },
  {
   "cell_type": "code",
   "execution_count": 9,
   "id": "hydraulic-billy",
   "metadata": {
    "ExecuteTime": {
     "end_time": "2021-03-22T19:18:09.174718Z",
     "start_time": "2021-03-22T19:18:09.171210Z"
    }
   },
   "outputs": [],
   "source": [
    "os.chdir(\"results/mammal_mito_assembly\")"
   ]
  },
  {
   "cell_type": "code",
   "execution_count": 10,
   "id": "rental-shore",
   "metadata": {
    "ExecuteTime": {
     "end_time": "2021-03-22T19:20:53.318888Z",
     "start_time": "2021-03-22T19:20:25.660142Z"
    }
   },
   "outputs": [
    {
     "data": {
      "application/vnd.jupyter.widget-view+json": {
       "model_id": "f0016ef36e524ca88fa8f231d2935f23",
       "version_major": 2,
       "version_minor": 0
      },
      "text/plain": [
       "  0%|          | 0/54 [00:00<?, ?it/s]"
      ]
     },
     "metadata": {},
     "output_type": "display_data"
    },
    {
     "ename": "KeyboardInterrupt",
     "evalue": "",
     "output_type": "error",
     "traceback": [
      "\u001b[0;31m---------------------------------------------------------------------------\u001b[0m",
      "\u001b[0;31mKeyboardInterrupt\u001b[0m                         Traceback (most recent call last)",
      "\u001b[0;32m<ipython-input-10-f7aef992d059>\u001b[0m in \u001b[0;36m<module>\u001b[0;34m()\u001b[0m\n\u001b[1;32m     11\u001b[0m     \u001b[0;32mwith\u001b[0m \u001b[0mopen\u001b[0m\u001b[0;34m(\u001b[0m\u001b[0mresults_tbl\u001b[0m\u001b[0;34m,\u001b[0m \u001b[0;34m'r'\u001b[0m\u001b[0;34m)\u001b[0m \u001b[0;32mas\u001b[0m \u001b[0min_f\u001b[0m\u001b[0;34m:\u001b[0m\u001b[0;34m\u001b[0m\u001b[0;34m\u001b[0m\u001b[0m\n\u001b[1;32m     12\u001b[0m         \u001b[0;32mwith\u001b[0m \u001b[0mopen\u001b[0m\u001b[0;34m(\u001b[0m\u001b[0;34m\"{}_mammal_reads.txt\"\u001b[0m\u001b[0;34m.\u001b[0m\u001b[0mformat\u001b[0m\u001b[0;34m(\u001b[0m\u001b[0mshort_name\u001b[0m\u001b[0;34m)\u001b[0m\u001b[0;34m,\u001b[0m \u001b[0;34m'w'\u001b[0m\u001b[0;34m)\u001b[0m \u001b[0;32mas\u001b[0m \u001b[0mout_f\u001b[0m\u001b[0;34m:\u001b[0m\u001b[0;34m\u001b[0m\u001b[0;34m\u001b[0m\u001b[0m\n\u001b[0;32m---> 13\u001b[0;31m             \u001b[0;32mfor\u001b[0m \u001b[0mentry\u001b[0m \u001b[0;32min\u001b[0m \u001b[0min_f\u001b[0m\u001b[0;34m:\u001b[0m\u001b[0;34m\u001b[0m\u001b[0;34m\u001b[0m\u001b[0m\n\u001b[0m\u001b[1;32m     14\u001b[0m                 \u001b[0;32mif\u001b[0m \u001b[0;34m\"mammal\"\u001b[0m \u001b[0;32min\u001b[0m \u001b[0mentry\u001b[0m\u001b[0;34m.\u001b[0m\u001b[0mlower\u001b[0m\u001b[0;34m(\u001b[0m\u001b[0;34m)\u001b[0m\u001b[0;34m:\u001b[0m\u001b[0;34m\u001b[0m\u001b[0;34m\u001b[0m\u001b[0m\n\u001b[1;32m     15\u001b[0m                     \u001b[0mout_f\u001b[0m\u001b[0;34m.\u001b[0m\u001b[0mwrite\u001b[0m\u001b[0;34m(\u001b[0m\u001b[0;34m\"{}\\n\"\u001b[0m\u001b[0;34m.\u001b[0m\u001b[0mformat\u001b[0m\u001b[0;34m(\u001b[0m\u001b[0mentry\u001b[0m\u001b[0;34m.\u001b[0m\u001b[0msplit\u001b[0m\u001b[0;34m(\u001b[0m\u001b[0;34m\"\\t\"\u001b[0m\u001b[0;34m)\u001b[0m\u001b[0;34m[\u001b[0m\u001b[0;36m1\u001b[0m\u001b[0;34m]\u001b[0m\u001b[0;34m)\u001b[0m\u001b[0;34m)\u001b[0m\u001b[0;34m\u001b[0m\u001b[0;34m\u001b[0m\u001b[0m\n",
      "\u001b[0;32m/master/nplatt/miniconda3/envs/patho_detect-jupyter/lib/python3.6/codecs.py\u001b[0m in \u001b[0;36mdecode\u001b[0;34m(self, input, final)\u001b[0m\n\u001b[1;32m    316\u001b[0m         \u001b[0;32mraise\u001b[0m \u001b[0mNotImplementedError\u001b[0m\u001b[0;34m\u001b[0m\u001b[0;34m\u001b[0m\u001b[0m\n\u001b[1;32m    317\u001b[0m \u001b[0;34m\u001b[0m\u001b[0m\n\u001b[0;32m--> 318\u001b[0;31m     \u001b[0;32mdef\u001b[0m \u001b[0mdecode\u001b[0m\u001b[0;34m(\u001b[0m\u001b[0mself\u001b[0m\u001b[0;34m,\u001b[0m \u001b[0minput\u001b[0m\u001b[0;34m,\u001b[0m \u001b[0mfinal\u001b[0m\u001b[0;34m=\u001b[0m\u001b[0;32mFalse\u001b[0m\u001b[0;34m)\u001b[0m\u001b[0;34m:\u001b[0m\u001b[0;34m\u001b[0m\u001b[0;34m\u001b[0m\u001b[0m\n\u001b[0m\u001b[1;32m    319\u001b[0m         \u001b[0;31m# decode input (taking the buffer into account)\u001b[0m\u001b[0;34m\u001b[0m\u001b[0;34m\u001b[0m\u001b[0;34m\u001b[0m\u001b[0m\n\u001b[1;32m    320\u001b[0m         \u001b[0mdata\u001b[0m \u001b[0;34m=\u001b[0m \u001b[0mself\u001b[0m\u001b[0;34m.\u001b[0m\u001b[0mbuffer\u001b[0m \u001b[0;34m+\u001b[0m \u001b[0minput\u001b[0m\u001b[0;34m\u001b[0m\u001b[0;34m\u001b[0m\u001b[0m\n",
      "\u001b[0;31mKeyboardInterrupt\u001b[0m: "
     ]
    }
   ],
   "source": [
    "#get the read ids\n",
    "for sample in tqdm(samples):\n",
    "    \n",
    "    #short name\n",
    "    short_name=sample.split(\"_\")[0]\n",
    "\n",
    "    #get kraken table that lists reads with terminal taxa\n",
    "    results_tbl=\"/master/nplatt/patho_detect/results/extract_bartonella_loci/04_kraken2/{}/{}_kraken.tbl\".format(short_name, short_name)\n",
    "\n",
    "    #get reads ids that have target taxa hits\n",
    "    with open(results_tbl, 'r') as in_f:\n",
    "        with open(\"{}_mammal_reads.txt\".format(short_name), 'w') as out_f:\n",
    "            for entry in in_f:\n",
    "                if \"mammal\" in entry.lower():\n",
    "                    out_f.write(\"{}\\n\".format(entry.split(\"\\t\")[1]))"
   ]
  },
  {
   "cell_type": "code",
   "execution_count": 6,
   "id": "funky-webmaster",
   "metadata": {
    "ExecuteTime": {
     "end_time": "2021-03-19T15:00:00.585169Z",
     "start_time": "2021-03-19T15:00:00.581788Z"
    }
   },
   "outputs": [],
   "source": [
    "                 \n",
    "                    \n",
    "samples_w_gt10k_reads = []\n",
    "for sample in tqdm(samples):\n",
    "    \n",
    "    short_name=sample.split(\"_\")[0]\n",
    "\n",
    "    for read in [\"1\", \"2\"]:\n",
    "        in_reads  = \"/master/nplatt/patho_detect/results/extract_bartonella_loci/03_clean-fastq/{}/split-adapter-quality-trimmed/{}-READ{}.fastq.gz\".format(short_name, short_name, read)\n",
    "        in_list   = \"/master/nplatt/patho_detect/results/extract_bartonella_loci/05_bartonella-reads/{}/reads.txt\".format(short_name)\n",
    "        out_reads = \"/master/nplatt/patho_detect/results/extract_bartonella_loci/05_bartonella-reads/{}/{}-READ{}.fastq\".format(short_name, short_name, read)\n",
    "\n",
    "        #count num reads (only proceed if greater than 10K)\n",
    "        count = len(open(in_list).readlines(  ))\n",
    "        \n",
    "        if count >= 10_000:\n",
    "            samples_w_gt10k_reads.append(short_name)\n",
    "            #extract reads with seqtk\n",
    "            cmd=\"seqtk subseq {} {} >{}\".format(in_reads, in_list, out_reads)\n",
    "            #!{cmd}\n",
    "            \n",
    "samples_w_gt10k_reads=list(set(samples_w_gt10k_reads))"
   ]
  },
  {
   "cell_type": "code",
   "execution_count": null,
   "id": "finite-freedom",
   "metadata": {},
   "outputs": [],
   "source": [
    "with open('data/19047-23/samples.list') as infile:\n",
    "    samples = infile.read().splitlines()\n",
    "\n",
    "samples_w_gt10k_reads = []\n",
    "for sample in tqdm(samples):\n",
    "    \n",
    "    short_name=sample.split(\"_\")[0]\n",
    "\n",
    "    for read in [\"1\", \"2\"]:\n",
    "        in_reads  = \"/master/nplatt/patho_detect/results/extract_bartonella_loci/03_clean-fastq/{}/split-adapter-quality-trimmed/{}-READ{}.fastq.gz\".format(short_name, short_name, read)\n",
    "        in_list   = \"/master/nplatt/patho_detect/results/extract_bartonella_loci/05_bartonella-reads/{}/reads.txt\".format(short_name)\n"
   ]
  }
 ],
 "metadata": {
  "kernelspec": {
   "display_name": "Python 3",
   "language": "python",
   "name": "python3"
  },
  "language_info": {
   "codemirror_mode": {
    "name": "ipython",
    "version": 3
   },
   "file_extension": ".py",
   "mimetype": "text/x-python",
   "name": "python",
   "nbconvert_exporter": "python",
   "pygments_lexer": "ipython3",
   "version": "3.6.12"
  }
 },
 "nbformat": 4,
 "nbformat_minor": 5
}
