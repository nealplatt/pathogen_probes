{
 "cells": [
  {
   "cell_type": "markdown",
   "id": "advisory-perth",
   "metadata": {},
   "source": [
    "# Extract Bartonella loci"
   ]
  },
  {
   "cell_type": "code",
   "execution_count": null,
   "id": "exclusive-complement",
   "metadata": {},
   "outputs": [],
   "source": [
    "#conda activate phyluce"
   ]
  },
  {
   "cell_type": "code",
   "execution_count": 1,
   "id": "appointed-reserve",
   "metadata": {
    "ExecuteTime": {
     "end_time": "2021-03-23T19:08:18.833661Z",
     "start_time": "2021-03-23T19:08:16.251357Z"
    }
   },
   "outputs": [],
   "source": [
    "import os\n",
    "import pandas as pd\n",
    "import numpy as np\n",
    "import matplotlib.pyplot as plt\n",
    "from tqdm.notebook import tqdm\n",
    "from Bio import SeqIO\n",
    "import pathlib\n",
    "import glob\n",
    "import re"
   ]
  },
  {
   "cell_type": "code",
   "execution_count": 2,
   "id": "functioning-lesson",
   "metadata": {
    "ExecuteTime": {
     "end_time": "2021-03-23T19:08:19.272122Z",
     "start_time": "2021-03-23T19:08:19.268678Z"
    }
   },
   "outputs": [],
   "source": [
    "os.chdir('/master/nplatt/patho_detect/')"
   ]
  },
  {
   "cell_type": "code",
   "execution_count": 3,
   "id": "hired-algeria",
   "metadata": {
    "ExecuteTime": {
     "end_time": "2021-03-23T19:08:20.851782Z",
     "start_time": "2021-03-23T19:08:20.845725Z"
    }
   },
   "outputs": [],
   "source": [
    "with open('data/19047-23/samples.list') as infile:\n",
    "    samples = infile.read().splitlines()"
   ]
  },
  {
   "cell_type": "code",
   "execution_count": null,
   "id": "stylish-hearts",
   "metadata": {
    "ExecuteTime": {
     "end_time": "2021-03-16T18:48:58.690340Z",
     "start_time": "2021-03-16T18:48:58.678962Z"
    }
   },
   "outputs": [],
   "source": [
    "os.mkdir('results/extract_bartonella_loci')\n",
    "os.mkdir('results/extract_bartonella_loci/logs')"
   ]
  },
  {
   "cell_type": "code",
   "execution_count": 4,
   "id": "hydraulic-billy",
   "metadata": {
    "ExecuteTime": {
     "end_time": "2021-03-23T19:08:22.772649Z",
     "start_time": "2021-03-23T19:08:22.769011Z"
    }
   },
   "outputs": [],
   "source": [
    "os.chdir(\"/master/nplatt/patho_detect/results/extract_bartonella_loci\")"
   ]
  },
  {
   "cell_type": "markdown",
   "id": "falling-absolute",
   "metadata": {},
   "source": [
    "## UCEs from reference genomes\n",
    "\n",
    "Bartonella and Brucella"
   ]
  },
  {
   "cell_type": "code",
   "execution_count": null,
   "id": "sticky-ethics",
   "metadata": {
    "ExecuteTime": {
     "end_time": "2021-03-12T22:49:33.523519Z",
     "start_time": "2021-03-12T22:49:32.888586Z"
    }
   },
   "outputs": [],
   "source": [
    "%%bash\n",
    "\n",
    "# #download genomes - here all refseq representtives (n=36)\n",
    "# ~/patho_detect/data/bartonella-ncbi-genomes-2021-03-10\n",
    "\n",
    "#process to appropriate 2bit format (and rename)\n",
    "IN_DIR=\"/master/nplatt/patho_detect/data/ncbi-genomes-2021-03-10\"\n",
    "OUT_DIR=\"/master/nplatt/patho_detect/results/extract_bartonella_loci/ncbi-genomes\"\n",
    "\n",
    "mkdir $OUT_DIR\n",
    "\n",
    "#get bartonella genomes (to be modified)\n",
    "cp $IN_DIR/GCF_013388295.1_ASM1338829v1_genomic.fna.gz $OUT_DIR/bartonella_alsatica_GCF_13388295.fa.gz\n",
    "cp $IN_DIR/GCF_001281405.1_ASM128140v1_genomic.fna.gz $OUT_DIR/bartonella_ancashensis_GCF_1281405.fa.gz\n",
    "cp $IN_DIR/GCF_001952065.1_ASM195206v1_genomic.fna.gz $OUT_DIR/bartonella_apis_GCF_1952065.fa.gz\n",
    "cp $IN_DIR/GCF_000341355.1_ASM34135v1_genomic.fna.gz $OUT_DIR/bartonella_australis_GCF_341355.fa.gz\n",
    "cp $IN_DIR/GCF_000015445.1_ASM1544v1_genomic.fna.gz $OUT_DIR/bartonella_bacilliformis_GCF_15445.fa.gz\n",
    "cp $IN_DIR/GCF_000278095.1_Bart_birt_LL-WM9_V1_genomic.fna.gz $OUT_DIR/bartonella_birtlesii_GCF_278095.fa.gz\n",
    "cp $IN_DIR/GCF_000384965.1_BBbMcIrM01_genomic.fna.gz $OUT_DIR/bartonella_bovis_GCF_384965.fa.gz\n",
    "cp $IN_DIR/GCF_014203215.1_ASM1420321v1_genomic.fna.gz $OUT_DIR/bartonella_callosciuri_GCF_14203215.fa.gz\n",
    "cp $IN_DIR/GCF_014138465.1_ASM1413846v1_genomic.fna.gz $OUT_DIR/bartonella_chomelii_GCF_14138465.fa.gz\n",
    "cp $IN_DIR/GCF_000253015.1_ASM25301v1_genomic.fna.gz $OUT_DIR/bartonella_clarridgeiae_GCF_253015.fa.gz\n",
    "cp $IN_DIR/GCF_900445535.1_57948_H01_genomic.fna.gz $OUT_DIR/bartonella_doshiae_GCF_900445535.fa.gz\n",
    "cp $IN_DIR/GCF_900638615.1_58174_F01_genomic.fna.gz $OUT_DIR/bartonella_elizabethae_GCF_900638615.fa.gz\n",
    "cp $IN_DIR/GCF_000312525.1_ASM31252v1_genomic.fna.gz $OUT_DIR/bartonella_florencae_GCF_312525.fa.gz\n",
    "cp $IN_DIR/GCF_014197255.1_ASM1419725v1_genomic.fna.gz $OUT_DIR/bartonella_fuyuanensis_GCF_14197255.fa.gz\n",
    "cp $IN_DIR/GCF_903679515.1_669_genomic.fna.gz $OUT_DIR/bartonella_gabonensis_GCF_903679515.fa.gz\n",
    "cp $IN_DIR/GCF_000022725.1_ASM2272v1_genomic.fna.gz $OUT_DIR/bartonella_grahamii_GCF_22725.fa.gz\n",
    "cp $IN_DIR/GCF_001291465.1_Bartonella_henselae_MVT02_genomic.fna.gz $OUT_DIR/bartonella_henselae_GCF_1291465.fa.gz\n",
    "cp $IN_DIR/GCF_000706625.1_Bart_koeh_C29_V1_genomic.fna.gz $OUT_DIR/bartonella_koehlerae_GCF_706625.fa.gz\n",
    "cp $IN_DIR/GCF_003606325.2_ASM360632v3_genomic.fna.gz $OUT_DIR/bartonella_kosoyi_GCF_3606325.fa.gz\n",
    "cp $IN_DIR/GCF_003606345.3_ASM360634v3_genomic.fna.gz $OUT_DIR/bartonella_krasnovii_GCF_3606345.fa.gz\n",
    "cp $IN_DIR/GCF_902150025.1_PRJEB33160_genomic.fna.gz $OUT_DIR/bartonella_massiliensis_GCF_902150025.fa.gz\n",
    "cp $IN_DIR/GCF_900185775.1_PRJEB21083_genomic.fna.gz $OUT_DIR/bartonella_mastomydis_GCF_900185775.fa.gz\n",
    "cp $IN_DIR/GCF_000278255.1_Bart_melo_K-2C_V1_genomic.fna.gz $OUT_DIR/bartonella_melophagi_GCF_278255.fa.gz\n",
    "cp $IN_DIR/GCF_000312585.1_ASM31258v1_genomic.fna.gz $OUT_DIR/bartonella_queenslandensis_GCF_312585.fa.gz\n",
    "cp $IN_DIR/GCF_009936175.1_ASM993617v1_genomic.fna.gz $OUT_DIR/bartonella_quintana_GCF_9936175.fa.gz\n",
    "cp $IN_DIR/GCF_000312565.1_ASM31256v2_genomic.fna.gz $OUT_DIR/bartonella_rattaustraliani_GCF_312565.fa.gz\n",
    "cp $IN_DIR/GCF_000278215.1_Bart_ratt_15908_V1_genomic.fna.gz $OUT_DIR/bartonella_rattimassiliensis_GCF_278215.fa.gz\n",
    "cp $IN_DIR/GCF_000706645.1_Bart_roch_BMGH_V1_genomic.fna.gz $OUT_DIR/bartonella_rochalimae_GCF_706645.fa.gz\n",
    "cp $IN_DIR/GCF_902162175.1_PRJEB33358_genomic.fna.gz $OUT_DIR/bartonella_saheliensis_GCF_902162175.fa.gz\n",
    "cp $IN_DIR/GCF_000385435.1_m07aNrPeIrM01_genomic.fna.gz $OUT_DIR/bartonella_schoenbuchensis_GCF_385435.fa.gz\n",
    "cp $IN_DIR/GCF_000312545.1_ASM31254v1_genomic.fna.gz $OUT_DIR/bartonella_senegalensis_GCF_312545.fa.gz\n",
    "cp $IN_DIR/GCF_000279995.1_Bart_tami_Th307_V1_genomic.fna.gz $OUT_DIR/bartonella_tamiae_GCF_279995.fa.gz\n",
    "cp $IN_DIR/GCF_000278295.1_Bart_tayl_8TBB_V1_genomic.fna.gz $OUT_DIR/bartonella_taylorii_GCF_278295.fa.gz\n",
    "cp $IN_DIR/GCF_000196435.1_ASM19643v1_genomic.fna.gz $OUT_DIR/bartonella_tribocorum_GCF_196435.fa.gz\n",
    "cp $IN_DIR/GCF_000278235.1_Bart_vins_OK-94-513_V1_genomic.fna.gz $OUT_DIR/bartonella_vinsonii_GCF_278235.fa.gz\n",
    "cp $IN_DIR/GCF_000278135.1_Bart_wash_Sb944nv_V1_genomic.fna.gz $OUT_DIR/bartonella_washoeensis_GCF_278135.fa.gz\n",
    "cp $IN_DIR/GCF_000007125.1_ASM712v1_genomic.fna.gz $OUT_DIR/brucella_melitensis_GCF_000007125.fa.gz\n",
    "cp $IN_DIR/GCF_000022745.1_ASM2274v1_genomic.fna.gz $OUT_DIR/brucella_microti_GCF_000022745.fa.gz\n",
    "cp $IN_DIR/GCF_900095155.1_BR141012304v1_genomic.fna.gz  $OUT_DIR/brucella_inopinata_GCF_900095155.fa.gz\n",
    "cp $IN_DIR/GCF_000007505.1_ASM750v1_genomic.fna.gz  $OUT_DIR/brucella_suis_GCF_000007505.fa.gz\n",
    "cp $IN_DIR/GCF_000054005.1_ASM5400v1_genomic.fna.gz $OUT_DIR/brucella_abortus_GCF_000054005.fa.gz\n",
    "cp $IN_DIR/GCF_900446125.1_57572_C01_genomic.fna.gz $OUT_DIR/brucella_neotomae_GCF_900446125.fa.gz\n",
    "cp $IN_DIR/GCF_000016845.1_ASM1684v1_genomic.fna.gz $OUT_DIR/brucella_ovis_GCF_000016845.fa.gz\n",
    "cp $IN_DIR/GCF_000590795.1_ASM59079v1_genomic.fna.gz $OUT_DIR/brucella_ceti_GCF_000590795.fa.gz\n",
    "cp $IN_DIR/GCF_900454225.1_34576_H01_genomic.fna.gz  $OUT_DIR/brucella_intermedia_GCF_900454225.fa.gz\n",
    "cp $IN_DIR/GCF_000018525.1_ASM1852v1_genomic.fna.gz  $OUT_DIR/brucella_canis_GCF_000018525.fa.gz\n",
    "cp $IN_DIR/GCF_002803535.1_ASM280353v1_genomic.fna.gz $OUT_DIR/brucella_pituitosa_GCF_002803535.fa.gz\n",
    "#\n",
    "for FAS in $(ls $OUT_DIR/*.fa.gz); do\n",
    "    TWOBIT=$(basename $FAS .fa.gz).2bit\n",
    "    faToTwoBit $FAS $OUT_DIR/$TWOBIT\n",
    "    \n",
    "    INFO=$(basename $TWOBIT .2bit).tab\n",
    "    twoBitInfo $OUT_DIR/$TWOBIT $OUT_DIR/$INFO\n",
    "    \n",
    "    NAME=$(basename $FAS .fa.gz)\n",
    "    mkdir $OUT_DIR/$NAME\n",
    "    mv  $OUT_DIR/$NAME*  $OUT_DIR/$NAME\n",
    "done\n",
    "\n"
   ]
  },
  {
   "cell_type": "code",
   "execution_count": null,
   "id": "deluxe-stylus",
   "metadata": {},
   "outputs": [],
   "source": [
    "%%bash\n",
    "\n",
    "#get bartonella probes\n",
    "cat ~/patho_detect/decon_probes.fas | grep -A1 --no-group-separator -i bartonella >bartonella_probes.fas\n",
    "\n",
    "#and clean up the names so they match the Faircloth format\n",
    "sed -i 's/uce_bartonella_/uce-/' bartonella_probes.fas"
   ]
  },
  {
   "cell_type": "code",
   "execution_count": null,
   "id": "toxic-steal",
   "metadata": {
    "ExecuteTime": {
     "end_time": "2021-03-11T17:25:45.034249Z",
     "start_time": "2021-03-11T17:25:44.946676Z"
    }
   },
   "outputs": [],
   "source": [
    "%%bash\n",
    "\n",
    "#make sure ulimit is greater than 4k\n",
    "ulimit -n 8192\n",
    "\n",
    "phyluce_probe_run_multiple_lastzs_sqlite \\\n",
    "    --db 01_ncbi-genomes-lastz/ncbi-genomes.sqlite \\\n",
    "    --output 01_ncbi-genomes-lastz \\\n",
    "    --identity 0.75 \\\n",
    "    --scaffoldlist bartonella_alsatica_GCF_13388295 \\\n",
    "        bartonella_ancashensis_GCF_1281405 \\\n",
    "        bartonella_apis_GCF_1952065 \\\n",
    "        bartonella_australis_GCF_341355 \\\n",
    "        bartonella_bacilliformis_GCF_15445 \\\n",
    "        bartonella_birtlesii_GCF_278095 \\\n",
    "        bartonella_bovis_GCF_384965 \\\n",
    "        bartonella_callosciuri_GCF_14203215 \\\n",
    "        bartonella_chomelii_GCF_14138465 \\\n",
    "        bartonella_clarridgeiae_GCF_253015 \\\n",
    "        bartonella_doshiae_GCF_900445535 \\\n",
    "        bartonella_elizabethae_GCF_900638615 \\\n",
    "        bartonella_florencae_GCF_312525 \\\n",
    "        bartonella_fuyuanensis_GCF_14197255 \\\n",
    "        bartonella_gabonensis_GCF_903679515 \\\n",
    "        bartonella_grahamii_GCF_22725 \\\n",
    "        bartonella_henselae_GCF_1291465 \\\n",
    "        bartonella_koehlerae_GCF_706625 \\\n",
    "        bartonella_kosoyi_GCF_3606325 \\\n",
    "        bartonella_krasnovii_GCF_3606345 \\\n",
    "        bartonella_massiliensis_GCF_902150025 \\\n",
    "        bartonella_mastomydis_GCF_900185775 \\\n",
    "        bartonella_melophagi_GCF_278255 \\\n",
    "        bartonella_queenslandensis_GCF_312585 \\\n",
    "        bartonella_quintana_GCF_9936175 \\\n",
    "        bartonella_rattaustraliani_GCF_312565 \\\n",
    "        bartonella_rattimassiliensis_GCF_278215 \\\n",
    "        bartonella_rochalimae_GCF_706645 \\\n",
    "        bartonella_saheliensis_GCF_902162175 \\\n",
    "        bartonella_schoenbuchensis_GCF_385435 \\\n",
    "        bartonella_senegalensis_GCF_312545 \\\n",
    "        bartonella_tamiae_GCF_279995 \\\n",
    "        bartonella_taylorii_GCF_278295 \\\n",
    "        bartonella_tribocorum_GCF_196435 \\\n",
    "        bartonella_vinsonii_GCF_278235 \\\n",
    "        bartonella_washoeensis_GCF_278135 \\\n",
    "        brucella_abortus_GCF_000054005 \\\n",
    "        brucella_inopinata_GCF_900095155 \\\n",
    "        brucella_microti_GCF_000022745 \\\n",
    "        brucella_pituitosa_GCF_002803535 \\\n",
    "        brucella_canis_GCF_000018525 \\\n",
    "        brucella_intermedia_GCF_900454225 \\\n",
    "        brucella_neotomae_GCF_900446125 \\\n",
    "        brucella_suis_GCF_000007505 \\\n",
    "        brucella_ceti_GCF_000590795 \\\n",
    "        brucella_melitensis_GCF_000007125 \\\n",
    "        brucella_ovis_GCF_000016845 \\\n",
    "    --genome-base-path /master/nplatt/patho_detect/results/extract_bartonella_loci/ncbi-genomes/ \\\n",
    "    --probefile bartonella_probes.fas \\\n",
    "    --cores 48 \\\n",
    "    --log-path /master/nplatt/patho_detect/results/extract_bartonella_loci/logs/"
   ]
  },
  {
   "cell_type": "code",
   "execution_count": null,
   "id": "jewish-airport",
   "metadata": {
    "ExecuteTime": {
     "end_time": "2021-03-17T14:09:59.726619Z",
     "start_time": "2021-03-17T14:09:59.655696Z"
    }
   },
   "outputs": [],
   "source": [
    "#make a conf file\n",
    "\n",
    "with open(\"ncbi-genomes/genomes.conf\", 'w') as out_f:\n",
    "    out_f.write(\"[scaffolds]\\n\")\n",
    "    for twobit in glob.glob(\"ncbi-genomes/*/*2bit\"):\n",
    "        name=twobit.split(\"/\")[-1].replace(\".2bit\", \"\")\n",
    "        outline=\"{}:{}\\n\".format(name, twobit)\n",
    "        out_f.write(outline)"
   ]
  },
  {
   "cell_type": "code",
   "execution_count": null,
   "id": "surrounded-reputation",
   "metadata": {
    "ExecuteTime": {
     "end_time": "2021-03-17T14:10:01.498517Z",
     "start_time": "2021-03-17T14:10:01.477278Z"
    }
   },
   "outputs": [],
   "source": [
    "%%bash\n",
    "\n",
    "#extract UCE loci +- 1Kb\n",
    "phyluce_probe_slice_sequence_from_genomes \\\n",
    "    --lastz 01_ncbi-genomes-lastz \\\n",
    "    --conf confs/genomes.conf \\\n",
    "    --flank 1000 \\\n",
    "    --name-pattern \"bartonella_probes.fas_v_{}.lastz.clean\" \\\n",
    "    --output 02_ncbi-genomes-uce-fasta\n",
    "\n",
    "#the genome uce contigs will be combined with the assemblies"
   ]
  },
  {
   "cell_type": "markdown",
   "id": "global-powder",
   "metadata": {},
   "source": [
    "## UCEs from enriched samples"
   ]
  },
  {
   "cell_type": "code",
   "execution_count": 5,
   "id": "sharing-fifty",
   "metadata": {
    "ExecuteTime": {
     "end_time": "2021-03-23T19:08:31.947478Z",
     "start_time": "2021-03-23T19:08:31.943924Z"
    }
   },
   "outputs": [],
   "source": [
    "os.chdir(\"/master/nplatt/patho_detect/results/extract_bartonella_loci\")"
   ]
  },
  {
   "cell_type": "markdown",
   "id": "interesting-thickness",
   "metadata": {},
   "source": [
    "### Get and clean reads"
   ]
  },
  {
   "cell_type": "code",
   "execution_count": null,
   "id": "early-jones",
   "metadata": {},
   "outputs": [],
   "source": [
    "%%bash\n",
    "\n",
    "#get raw data in the proper name format\n",
    "mkdir raw-fastq\n",
    "\n",
    "cp ~/patho_detect/data/19047-23/* raw-fastq/\n",
    "rename R1.fastq.gz L001_R1_001.fastq.gz raw-fastq/*R1*.gz\n",
    "rename R2.fastq.gz L001_R2_001.fastq.gz raw-fastq/*R2*.gz"
   ]
  },
  {
   "cell_type": "code",
   "execution_count": null,
   "id": "built-mozambique",
   "metadata": {},
   "outputs": [],
   "source": [
    "%%bash\n",
    "\n",
    "#clean up raw reads\n",
    "illumiprocessor \\\n",
    "    --input raw-fastq/ \\\n",
    "    --output 03_clean-fastq \\\n",
    "    --config confs/illumiprocessor.conf \\\n",
    "    --cores 24"
   ]
  },
  {
   "cell_type": "markdown",
   "id": "bored-nancy",
   "metadata": {},
   "source": [
    "### Get reads that map to Bartonella"
   ]
  },
  {
   "cell_type": "code",
   "execution_count": null,
   "id": "realistic-devon",
   "metadata": {},
   "outputs": [],
   "source": [
    "%%bash\n",
    "\n",
    "#make kraken2 database\n",
    "#<..snip...>"
   ]
  },
  {
   "cell_type": "code",
   "execution_count": null,
   "id": "behavioral-savings",
   "metadata": {},
   "outputs": [],
   "source": [
    "%%bash\n",
    "\n",
    "\"#compare reads to kraken2 to get bartonella mapping reads\n",
    "for SAMPLE in $(ls clean-fastq); do\n",
    "    echo $SAMPLE\n",
    "\n",
    "    mkdir -p 04_kraken2/$SAMPLE\n",
    "\n",
    "    #quanify/classify\n",
    "    ~/patho_detect/code/kraken2/kraken2 \\\n",
    "        --use-names \\\n",
    "        --threads 64 \\\n",
    "        --db ~/patho_detect/results/04_kraken2/pathodb_20201215 \\\n",
    "        --report 04_kraken2/$SAMPLE/\"$SAMPLE\"_kraken.report \\\n",
    "        --classified-out 04_kraken2/$SAMPLE/\"$SAMPLE\"_classifed#.fq \\\n",
    "        --unclassified-out 04_kraken2/$SAMPLE/\"$SAMPLE\"_unclassifed#.fq \\\n",
    "        --gzip-compressed \\\n",
    "        --paired \\\n",
    "        clean-fastq/$SAMPLE/split-adapter-quality-trimmed/\"$SAMPLE\"-READ1.fastq.gz \\\n",
    "        clean-fastq/$SAMPLE/split-adapter-quality-trimmed/\"$SAMPLE\"-READ2.fastq.gz \\\n",
    "        >kraken2/$SAMPLE/\"$SAMPLE\"_kraken.tbl\n",
    "    #------------------\n",
    "\n",
    "done\""
   ]
  },
  {
   "cell_type": "code",
   "execution_count": null,
   "id": "loving-sweet",
   "metadata": {
    "ExecuteTime": {
     "end_time": "2021-03-16T20:22:40.139965Z",
     "start_time": "2021-03-16T19:52:38.434792Z"
    }
   },
   "outputs": [],
   "source": [
    "#get the read ids\n",
    "for sample in tqdm(samples):\n",
    "    \n",
    "    #short name\n",
    "    short_name=sample.split(\"_\")[0]\n",
    "\n",
    "    #mkdir to save reads and read lists\n",
    "    pathlib.Path(\"/master/nplatt/patho_detect/results/extract_bartonella_loci/05_bartonella-reads/{}/\".format(short_name)).mkdir(parents=True, exist_ok=True)    \n",
    "\n",
    "    #get kraken table that lists reads with terminal taxa\n",
    "    results_tbl=\"/master/nplatt/patho_detect/results/extract_bartonella_loci/04_kraken2/{}/{}_kraken.tbl\".format(short_name, short_name)\n",
    "\n",
    "    #get reads ids that have target taxa hits\n",
    "    with open(results_tbl, 'r') as in_f:\n",
    "        with open(\"/master/nplatt/patho_detect/results/extract_bartonella_loci/05_bartonella-reads/{}/reads.txt\".format(short_name), 'w') as out_f:\n",
    "            for entry in in_f:\n",
    "                if \"bartonella\" in entry.lower():\n",
    "                    out_f.write(\"{}\\n\".format(entry.split(\"\\t\")[1]))\n",
    "                    "
   ]
  },
  {
   "cell_type": "code",
   "execution_count": 15,
   "id": "proud-absolute",
   "metadata": {
    "ExecuteTime": {
     "end_time": "2021-03-18T20:48:26.380348Z",
     "start_time": "2021-03-18T20:48:26.372815Z"
    }
   },
   "outputs": [],
   "source": [
    "#extract the reads\n",
    "                           \n",
    "samples_w_gt10k_reads = []\n",
    "for sample in tqdm(samples):\n",
    "    \n",
    "    short_name=sample.split(\"_\")[0]\n",
    "\n",
    "    for read in [\"1\", \"2\"]:\n",
    "        in_reads  = \"/master/nplatt/patho_detect/results/extract_bartonella_loci/03_clean-fastq/{}/split-adapter-quality-trimmed/{}-READ{}.fastq.gz\".format(short_name, short_name, read)\n",
    "        in_list   = \"/master/nplatt/patho_detect/results/extract_bartonella_loci/05_bartonella-reads/{}/reads.txt\".format(short_name)\n",
    "        out_reads = \"/master/nplatt/patho_detect/results/extract_bartonella_loci/05_bartonella-reads/{}/{}-READ{}.fastq\".format(short_name, short_name, read)\n",
    "\n",
    "        #count num reads (only proceed if greater than 10K)\n",
    "        count = len(open(in_list).readlines(  ))\n",
    "        \n",
    "        if count >= 10_000:\n",
    "            samples_w_gt10k_reads.append(short_name)\n",
    "            #extract reads with seqtk\n",
    "            cmd=\"seqtk subseq {} {} >{}\".format(in_reads, in_list, out_reads)\n",
    "            #!{cmd}\n",
    "            \n",
    "samples_w_gt10k_reads=list(set(samples_w_gt10k_reads))"
   ]
  },
  {
   "cell_type": "code",
   "execution_count": null,
   "id": "developing-berlin",
   "metadata": {},
   "outputs": [],
   "source": [
    "%%bash\n",
    "\n",
    "#gzip all of the fastq files\n",
    "for FASTQ in $(ls 05_bartonella-reads/*/*-READ*.fastq); do \n",
    "    gzip $FASTQ & \n",
    "done"
   ]
  },
  {
   "cell_type": "markdown",
   "id": "binary-october",
   "metadata": {
    "heading_collapsed": true
   },
   "source": [
    "### Assemble Bartonella reads"
   ]
  },
  {
   "cell_type": "code",
   "execution_count": 16,
   "id": "beginning-treasury",
   "metadata": {
    "ExecuteTime": {
     "end_time": "2021-03-18T20:48:40.002557Z",
     "start_time": "2021-03-18T20:48:39.991515Z"
    },
    "hidden": true
   },
   "outputs": [],
   "source": [
    "#make phyluce assembly.conf\n",
    "with open(\"confs/assembly.conf\", 'w') as out_f:\n",
    "    out_f.write(\"[samples]\\n\")\n",
    "    \n",
    "    for sample in samples_w_gt10k_reads:\n",
    "        short_name=sample.split(\"_\")[0]\n",
    "        read_dir = \"/master/nplatt/patho_detect/results/extract_bartonella_loci/05_bartonella-reads/{}/\".format(short_name)\n",
    "        out_f.write(\"{}:{}\\n\".format(short_name, read_dir))"
   ]
  },
  {
   "cell_type": "code",
   "execution_count": null,
   "id": "pressing-signature",
   "metadata": {
    "hidden": true
   },
   "outputs": [],
   "source": [
    "%%bash \n",
    "\n",
    "#fun phyluce assembly with spades\n",
    "phyluce_assembly_assemblo_spades \\\n",
    "    --conf /master/nplatt/patho_detect/results/extract_bartonella_loci/confs/assembly.conf \\\n",
    "    --output /master/nplatt/patho_detect/results/extract_bartonella_loci/06_spades-assemblies \\\n",
    "    --cores 48 \\\n",
    "    --memory 768 \\\n",
    "    --log-path /master/nplatt/patho_detect/results/extract_bartonella_loci/logs "
   ]
  },
  {
   "cell_type": "code",
   "execution_count": null,
   "id": "micro-opinion",
   "metadata": {
    "hidden": true
   },
   "outputs": [],
   "source": [
    "%%bash\n",
    "\n",
    "#add genome uces to the assembly dir\n",
    "mkdir /master/nplatt/patho_detect/results/extract_bartonella_loci/07_all_assemblies\n",
    "\n",
    "cp /master/nplatt/patho_detect/results/extract_bartonella_loci/02_ncbi-genomes-uce-fasta/*.fasta 07_all_assemblies/\n",
    "cp /master/nplatt/patho_detect/results/extract_bartonella_loci/06_spades-assemblies/contigs/*.fasta 07_all_assemblies/\n",
    "\n",
    "rename .contigs.fasta .fasta 07_all_assemblies/*.contigs.fasta"
   ]
  },
  {
   "cell_type": "markdown",
   "id": "satisfactory-washer",
   "metadata": {
    "heading_collapsed": true
   },
   "source": [
    "### Find UCE loci in assemblies"
   ]
  },
  {
   "cell_type": "code",
   "execution_count": null,
   "id": "inner-humor",
   "metadata": {
    "hidden": true
   },
   "outputs": [],
   "source": [
    "%%bash \n",
    "\n",
    "#find probed regions in assemblies\n",
    "phyluce_assembly_match_contigs_to_probes \\\n",
    "    --contigs /master/nplatt/patho_detect/results/extract_bartonella_loci/07_all_assemblies \\\n",
    "    --probes /master/nplatt/patho_detect/results/extract_bartonella_loci/bartonella_probes.fas \\\n",
    "    --min-identity 75 \\\n",
    "    --output /master/nplatt/patho_detect/results/extract_bartonella_loci/08_bartonella_uce-search-results \\\n",
    "    --log-path /master/nplatt/patho_detect/results/extract_bartonella_loci/logs "
   ]
  },
  {
   "cell_type": "markdown",
   "id": "temporal-philip",
   "metadata": {
    "heading_collapsed": true
   },
   "source": [
    "### Extract Loci"
   ]
  },
  {
   "cell_type": "code",
   "execution_count": 17,
   "id": "entitled-attendance",
   "metadata": {
    "ExecuteTime": {
     "end_time": "2021-03-19T14:51:35.475527Z",
     "start_time": "2021-03-19T14:51:35.459884Z"
    },
    "hidden": true
   },
   "outputs": [],
   "source": [
    "#make phyluce assembly.conf\n",
    "with open(\"confs/taxon-set.conf\", 'w') as out_f:\n",
    "    out_f.write(\"[all]\\n\")\n",
    "    for assembly in glob.glob(\"07_all_assemblies/*.fasta\"):\n",
    "        short_name=assembly.replace(\".fasta\", \"\").split(\"/\")[-1]\n",
    "        out_f.write(\"{}\\n\".format(short_name,))"
   ]
  },
  {
   "cell_type": "code",
   "execution_count": null,
   "id": "floral-footwear",
   "metadata": {
    "hidden": true
   },
   "outputs": [],
   "source": [
    "%%bash \n",
    "\n",
    "mkdir -p 09_taxon-sets/all\n",
    "\n",
    "# create the data matrix configuration file\n",
    "phyluce_assembly_get_match_counts \\\n",
    "    --locus-db 08_bartonella_uce-search-results/probe.matches.sqlite \\\n",
    "    --taxon-list-config confs/taxon-set.conf \\\n",
    "    --taxon-group 'all' \\\n",
    "    --incomplete-matrix \\\n",
    "    --output 09_taxon-sets/all/all-taxa-incomplete.conf \\\n",
    "    --log-path /master/nplatt/patho_detect/results/extract_bartonella_loci/logs "
   ]
  },
  {
   "cell_type": "code",
   "execution_count": null,
   "id": "industrial-jungle",
   "metadata": {
    "hidden": true
   },
   "outputs": [],
   "source": [
    "cd 09_taxon-sets/all\n",
    "\n",
    "# make a log directory to hold our log files - this keeps things neat\n",
    "\n",
    "# get FASTA data for taxa in our taxon set\n",
    "phyluce_assembly_get_fastas_from_match_counts \\\n",
    "    --contigs /master/nplatt/patho_detect/results/extract_bartonella_loci/07_all_assemblies  \\\n",
    "    --locus-db /master/nplatt/patho_detect/results/extract_bartonella_loci/08_bartonella_uce-search-results/probe.matches.sqlite \\\n",
    "    --match-count-output all-taxa-incomplete.conf \\\n",
    "    --output all-taxa-incomplete.fasta \\\n",
    "    --incomplete-matrix all-taxa-incomplete.incomplete \\\n",
    "    --log-path /master/nplatt/patho_detect/results/extract_bartonella_loci/logs "
   ]
  },
  {
   "cell_type": "code",
   "execution_count": null,
   "id": "technological-letter",
   "metadata": {
    "hidden": true
   },
   "outputs": [],
   "source": [
    "phyluce_assembly_explode_get_fastas_file \\\n",
    "    --input all-taxa-incomplete.fasta \\\n",
    "    --output exploded-fastas \\\n",
    "    --by-taxon\n",
    "    \n",
    "# get summary stats on the FASTAS\n",
    "echo \"samples,contigs,total bp,mean length,95 CI length,min length,max length,median legnth,contigs >1kb\">uce_stats.csv\n",
    "    \n",
    "for i in exploded-fastas/*.fasta; do\n",
    "    phyluce_assembly_get_fasta_lengths \\\n",
    "        --input $i \\\n",
    "        --csv\n",
    "done >>uce_stats.csv\n"
   ]
  },
  {
   "cell_type": "markdown",
   "id": "modular-harrison",
   "metadata": {},
   "source": [
    "### Align and trim loci"
   ]
  },
  {
   "cell_type": "code",
   "execution_count": null,
   "id": "certified-conviction",
   "metadata": {},
   "outputs": [],
   "source": [
    "# align the data\n",
    "phyluce_align_seqcap_align \\\n",
    "    --input all-taxa-incomplete.fasta \\\n",
    "    --output mafft-nexus-edge-trimmed \\\n",
    "    --taxa 4 \\\n",
    "    --aligner mafft \\\n",
    "    --cores 12 \\\n",
    "    --incomplete-matrix \\\n",
    "    --log-path /master/nplatt/patho_detect/results/extract_bartonella_loci/logs "
   ]
  },
  {
   "cell_type": "code",
   "execution_count": null,
   "id": "clean-stanley",
   "metadata": {},
   "outputs": [],
   "source": [
    "phyluce_align_seqcap_align \\\n",
    "    --input all-taxa-incomplete.fasta \\\n",
    "    --output mafft-nexus-internal-trimmed \\\n",
    "    --taxa 4 \\\n",
    "    --aligner mafft \\\n",
    "    --cores 12 \\\n",
    "    --incomplete-matrix \\\n",
    "    --output-format fasta \\\n",
    "    --no-trim \\\n",
    "    --log-path /master/nplatt/patho_detect/results/extract_bartonella_loci/logs "
   ]
  },
  {
   "cell_type": "code",
   "execution_count": null,
   "id": "younger-float",
   "metadata": {},
   "outputs": [],
   "source": [
    "phyluce_align_get_gblocks_trimmed_alignments_from_untrimmed \\\n",
    "    --alignments mafft-nexus-internal-trimmed \\\n",
    "    --output mafft-nexus-internal-trimmed-gblocks \\\n",
    "    --cores 12 \\\n",
    "    --log-path /master/nplatt/patho_detect/results/extract_bartonella_loci/logs "
   ]
  },
  {
   "cell_type": "code",
   "execution_count": null,
   "id": "critical-analysis",
   "metadata": {},
   "outputs": [],
   "source": [
    "phyluce_align_remove_locus_name_from_files \\\n",
    "    --alignments mafft-nexus-internal-trimmed-gblocks \\\n",
    "    --output mafft-nexus-internal-trimmed-gblocks-clean \\\n",
    "    --cores 12 \\\n",
    "    --log-path /master/nplatt/patho_detect/results/extract_bartonella_loci/logs "
   ]
  },
  {
   "cell_type": "code",
   "execution_count": null,
   "id": "polished-portsmouth",
   "metadata": {},
   "outputs": [],
   "source": [
    "phyluce_align_get_only_loci_with_min_taxa \\\n",
    "    --alignments mafft-nexus-internal-trimmed-gblocks-clean \\\n",
    "    --taxa 4 \\\n",
    "    --percent 0.25 \\\n",
    "    --output mafft-nexus-internal-trimmed-gblocks-clean-25p \\\n",
    "    --cores 12 \\\n",
    "    --log-path /master/nplatt/patho_detect/results/extract_bartonella_loci/logs "
   ]
  },
  {
   "cell_type": "code",
   "execution_count": null,
   "id": "adverse-packaging",
   "metadata": {
    "ExecuteTime": {
     "end_time": "2021-03-19T14:57:58.010345Z",
     "start_time": "2021-03-19T14:57:58.003479Z"
    }
   },
   "outputs": [],
   "source": [
    "phyluce_align_concatenate_alignments \\\n",
    "    --alignments mafft-nexus-internal-trimmed-gblocks-clean-25p \\\n",
    "    --output mafft-nexus-internal-trimmed-gblocks-clean-25p-raxml \\\n",
    "    --nexus \\\n",
    "    --log-path /master/nplatt/patho_detect/results/extract_bartonella_loci/logs"
   ]
  },
  {
   "cell_type": "code",
   "execution_count": null,
   "id": "historical-trouble",
   "metadata": {},
   "outputs": [],
   "source": [
    "mkdir /master/nplatt/patho_detect/results/extract_bartonella_loci/10_uce_alignments\n",
    "\n",
    "cp mafft-nexus-internal-trimmed-gblocks-clean-25p-raxml/mafft-nexus-internal-trimmed-gblocks-clean-25p-raxml* \\\n",
    "    /master/nplatt/patho_detect/results/extract_bartonella_loci/10_uce_alignments/"
   ]
  },
  {
   "cell_type": "code",
   "execution_count": null,
   "id": "sticky-economics",
   "metadata": {},
   "outputs": [],
   "source": [
    "phyluce_align_concatenate_alignments \\\n",
    "    --alignments mafft-nexus-internal-trimmed-gblocks-clean-25p \\\n",
    "    --output mafft-nexus-internal-trimmed-gblocks-clean-25p-raxml \\\n",
    "    --phylip \\\n",
    "    --log-path /master/nplatt/patho_detect/results/extract_bartonella_loci/logs "
   ]
  },
  {
   "cell_type": "code",
   "execution_count": null,
   "id": "native-asthma",
   "metadata": {},
   "outputs": [],
   "source": [
    "cp mafft-nexus-internal-trimmed-gblocks-clean-25p-raxml/mafft-nexus-internal-trimmed-gblocks-clean-25p-raxml* \\\n",
    "    /master/nplatt/patho_detect/results/extract_bartonella_loci/10_uce_alignments/"
   ]
  },
  {
   "cell_type": "markdown",
   "id": "careful-rochester",
   "metadata": {},
   "source": [
    "# ...go to bartonella_phylogenetics.ipynb"
   ]
  }
 ],
 "metadata": {
  "kernelspec": {
   "display_name": "Python 3",
   "language": "python",
   "name": "python3"
  },
  "language_info": {
   "codemirror_mode": {
    "name": "ipython",
    "version": 3
   },
   "file_extension": ".py",
   "mimetype": "text/x-python",
   "name": "python",
   "nbconvert_exporter": "python",
   "pygments_lexer": "ipython3",
   "version": "3.6.12"
  }
 },
 "nbformat": 4,
 "nbformat_minor": 5
}
