{
 "cells": [
  {
   "cell_type": "code",
   "execution_count": null,
   "id": "silent-above",
   "metadata": {},
   "outputs": [],
   "source": []
  },
  {
   "cell_type": "code",
   "execution_count": null,
   "id": "weird-petite",
   "metadata": {},
   "outputs": [],
   "source": [
    "#get mammal reads\n",
    "#assemble mito genomes\n",
    "#build phylo\n",
    "#look for contamination\n"
   ]
  },
  {
   "cell_type": "code",
   "execution_count": null,
   "id": "spare-spectrum",
   "metadata": {},
   "outputs": [],
   "source": [
    "import os\n",
    "# import pandas as pd\n",
    "# import numpy as np\n",
    "# import matplotlib.pyplot as plt\n",
    "# from tqdm.notebook import tqdm\n",
    "# from Bio import SeqIO\n",
    "# import pathlib\n",
    "# import glob\n",
    "# import re"
   ]
  },
  {
   "cell_type": "code",
   "execution_count": null,
   "id": "drawn-marketing",
   "metadata": {},
   "outputs": [],
   "source": [
    "os.chdir('/master/nplatt/patho_detect/')"
   ]
  },
  {
   "cell_type": "code",
   "execution_count": null,
   "id": "included-reconstruction",
   "metadata": {},
   "outputs": [],
   "source": [
    "os.mkdir('results/bartonella_phylo')\n",
    "os.mkdir('results/bartonella_phylo/logs')\n",
    "os.mkdir('results/bartonella_phylo/raxml')"
   ]
  },
  {
   "cell_type": "code",
   "execution_count": null,
   "id": "weighted-frame",
   "metadata": {},
   "outputs": [],
   "source": [
    "os.chdir(\"/master/nplatt/patho_detect/results/bartonella_phylo\")"
   ]
  },
  {
   "cell_type": "code",
   "execution_count": null,
   "id": "cosmetic-stereo",
   "metadata": {},
   "outputs": [],
   "source": []
  },
  {
   "cell_type": "code",
   "execution_count": null,
   "id": "third-utilization",
   "metadata": {},
   "outputs": [],
   "source": []
  },
  {
   "cell_type": "code",
   "execution_count": null,
   "id": "right-difference",
   "metadata": {},
   "outputs": [],
   "source": []
  },
  {
   "cell_type": "code",
   "execution_count": null,
   "id": "endless-boundary",
   "metadata": {},
   "outputs": [],
   "source": []
  }
 ],
 "metadata": {
  "kernelspec": {
   "display_name": "Python 3",
   "language": "python",
   "name": "python3"
  },
  "language_info": {
   "codemirror_mode": {
    "name": "ipython",
    "version": 3
   },
   "file_extension": ".py",
   "mimetype": "text/x-python",
   "name": "python",
   "nbconvert_exporter": "python",
   "pygments_lexer": "ipython3",
   "version": "3.6.12"
  }
 },
 "nbformat": 4,
 "nbformat_minor": 5
}
