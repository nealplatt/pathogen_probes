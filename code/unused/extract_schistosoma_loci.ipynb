{
 "cells": [
  {
   "cell_type": "markdown",
   "id": "advisory-perth",
   "metadata": {},
   "source": [
    "# Extract schistosoma loci"
   ]
  },
  {
   "cell_type": "code",
   "execution_count": null,
   "id": "exclusive-complement",
   "metadata": {},
   "outputs": [],
   "source": [
    "#conda activate phyluce"
   ]
  },
  {
   "cell_type": "code",
   "execution_count": 1,
   "id": "appointed-reserve",
   "metadata": {
    "ExecuteTime": {
     "end_time": "2021-03-25T20:07:22.638318Z",
     "start_time": "2021-03-25T20:07:21.128649Z"
    }
   },
   "outputs": [],
   "source": [
    "import os\n",
    "import pandas as pd\n",
    "import numpy as np\n",
    "import matplotlib.pyplot as plt\n",
    "from tqdm.notebook import tqdm\n",
    "from Bio import SeqIO\n",
    "import pathlib\n",
    "import glob\n",
    "import re"
   ]
  },
  {
   "cell_type": "code",
   "execution_count": 2,
   "id": "functioning-lesson",
   "metadata": {
    "ExecuteTime": {
     "end_time": "2021-03-25T20:07:23.464949Z",
     "start_time": "2021-03-25T20:07:23.461295Z"
    }
   },
   "outputs": [],
   "source": [
    "os.chdir('/master/nplatt/patho_detect/')"
   ]
  },
  {
   "cell_type": "code",
   "execution_count": 3,
   "id": "hired-algeria",
   "metadata": {
    "ExecuteTime": {
     "end_time": "2021-03-25T20:07:25.093987Z",
     "start_time": "2021-03-25T20:07:25.088577Z"
    }
   },
   "outputs": [],
   "source": [
    "with open('data/19047-23/samples.list') as infile:\n",
    "    samples = infile.read().splitlines()"
   ]
  },
  {
   "cell_type": "code",
   "execution_count": 4,
   "id": "stylish-hearts",
   "metadata": {
    "ExecuteTime": {
     "end_time": "2021-03-25T20:07:26.655672Z",
     "start_time": "2021-03-25T20:07:26.649326Z"
    }
   },
   "outputs": [],
   "source": [
    "os.mkdir('results/extract_schistosoma_loci')\n",
    "os.mkdir('results/extract_schistosoma_loci/logs')"
   ]
  },
  {
   "cell_type": "code",
   "execution_count": 5,
   "id": "hydraulic-billy",
   "metadata": {
    "ExecuteTime": {
     "end_time": "2021-03-25T20:07:28.540950Z",
     "start_time": "2021-03-25T20:07:28.537631Z"
    }
   },
   "outputs": [],
   "source": [
    "os.chdir(\"/master/nplatt/patho_detect/results/extract_schistosoma_loci\")"
   ]
  },
  {
   "cell_type": "markdown",
   "id": "falling-absolute",
   "metadata": {},
   "source": [
    "## UCEs from reference genomes\n",
    "\n",
    "Schistosoma"
   ]
  },
  {
   "cell_type": "code",
   "execution_count": null,
   "id": "sticky-ethics",
   "metadata": {
    "ExecuteTime": {
     "end_time": "2021-03-12T22:49:33.523519Z",
     "start_time": "2021-03-12T22:49:32.888586Z"
    }
   },
   "outputs": [],
   "source": [
    "%%bash\n",
    "\n",
    "# #download genomes - here all refseq representtives (n=36)\n",
    "# \"/master/nplatt/patho_detect/data/plasmodium_genomes/\"\n",
    "\n",
    "#process to appropriate 2bit format (and rename)\n",
    "IN_DIR=\"/master/nplatt/patho_detect/data/schistosoma_genomes/\"\n",
    "OUT_DIR=\"/master/nplatt/patho_detect/results/extract_schistosoma_loci/ncbi-genomes\"\n",
    "\n",
    "mkdir $OUT_DIR\n",
    "\n",
    "#get plasmodium genomes (to be modified)\n",
    "cp $IN_DIR/GCA_000237925.4_GCA_000237925.3_genomic.fna.gz $OUT_DIR/schistosoma_mansoni_GCA_000237925.fa.gz\n",
    "cp $IN_DIR/GCA_006368765.1_ASM636876v1_genomic.fna.gz $OUT_DIR/schistosoma_japonicum_GCA_006368765.fa.gz\n",
    "cp $IN_DIR/GCA_900618395.1_S_margrebowiei_Zambia_0011_upd_genomic.fna.gz $OUT_DIR/schistosoma_margrebowiei_GCA_900618395.fa.gz\n",
    "cp $IN_DIR/GCA_000699445.2_SchHae_2.0_genomic.fna.gz $OUT_DIR/schistosoma_haematobium_GCA_000699445.fa.gz\n",
    "cp $IN_DIR/GCA_900617995.1_S_mattheei_Denwood_0011_upd_genomic.fna.gz $OUT_DIR/schistosoma_mattheei_GCA_900617995.fa.gz\n",
    "cp $IN_DIR/GCA_900618515.1_T_regenti_v1_0_4_001_upd_genomic.fna.gz $OUT_DIR/trichobilharzia_regenti_GCA_900618515.fa.gz\n",
    "cp $IN_DIR/GCA_003958945.1_ASM395894v1_genomic.fna.gz $OUT_DIR/schistosoma_bovis_GCA_003958945.fa.gz\n",
    "cp $IN_DIR/GCA_900618015.1_S_curassoni_Dakar_0011_upd_genomic.fna.gz $OUT_DIR/schistosoma_curassoni_GCA_900618015.fa.gz\n",
    "\n",
    "\n",
    "#\n",
    "for FAS in $(ls $OUT_DIR/*.fa.gz); do\n",
    "    TWOBIT=$(basename $FAS .fa.gz).2bit\n",
    "    faToTwoBit $FAS $OUT_DIR/$TWOBIT\n",
    "    \n",
    "    INFO=$(basename $TWOBIT .2bit).tab\n",
    "    twoBitInfo $OUT_DIR/$TWOBIT $OUT_DIR/$INFO\n",
    "    \n",
    "    NAME=$(basename $FAS .fa.gz)\n",
    "    mkdir $OUT_DIR/$NAME\n",
    "    mv  $OUT_DIR/$NAME*  $OUT_DIR/$NAME\n",
    "done\n",
    "\n"
   ]
  },
  {
   "cell_type": "code",
   "execution_count": 13,
   "id": "deluxe-stylus",
   "metadata": {
    "ExecuteTime": {
     "end_time": "2021-03-25T17:46:34.899257Z",
     "start_time": "2021-03-25T17:46:34.701869Z"
    }
   },
   "outputs": [],
   "source": [
    "%%bash\n",
    "\n",
    "#get plasmodium probes\n",
    "cat ~/patho_detect/decon_probes.fas | grep -A1 --no-group-separator -i cestoda >cestoda_probes.fas\n",
    "\n",
    "#and clean up the names so they match the Faircloth format\n",
    "sed -i 's/uce_cestoda_/uce-/' cestoda_probes.fas"
   ]
  },
  {
   "cell_type": "code",
   "execution_count": null,
   "id": "toxic-steal",
   "metadata": {
    "ExecuteTime": {
     "end_time": "2021-03-11T17:25:45.034249Z",
     "start_time": "2021-03-11T17:25:44.946676Z"
    }
   },
   "outputs": [],
   "source": [
    "%%bash\n",
    "\n",
    "#make sure ulimit is greater than 4k\n",
    "ulimit -n 8192\n",
    "\n",
    "phyluce_probe_run_multiple_lastzs_sqlite \\\n",
    "    --db ncbi-genomes-lastz/ncbi-genomes.sqlite \\\n",
    "    --output ncbi-genomes-lastz \\\n",
    "    --identity 0.75 \\\n",
    "    --scaffoldlist schistosoma_mansoni_GCA_000237925 \\\n",
    "        schistosoma_japonicum_GCA_006368765 \\\n",
    "        schistosoma_margrebowiei_GCA_900618395 \\\n",
    "        schistosoma_haematobium_GCA_000699445 \\\n",
    "        schistosoma_mattheei_GCA_900617995 \\\n",
    "        trichobilharzia_regenti_GCA_900618515 \\\n",
    "        schistosoma_bovis_GCA_003958945 \\\n",
    "        schistosoma_curassoni_GCA_900618015 \\\n",
    "    --genome-base-path /master/nplatt/patho_detect/results/extract_schistosoma_loci/ncbi-genomes/ \\\n",
    "    --probefile cestoda_probes.fas \\\n",
    "    --cores 24 \\\n",
    "    --log-path /master/nplatt/patho_detect/results/extract_schistosoma_loci/logs/"
   ]
  },
  {
   "cell_type": "code",
   "execution_count": 7,
   "id": "jewish-airport",
   "metadata": {
    "ExecuteTime": {
     "end_time": "2021-03-25T20:29:36.351258Z",
     "start_time": "2021-03-25T20:29:36.330910Z"
    }
   },
   "outputs": [],
   "source": [
    "#make a conf file\n",
    "os.mkdir(\"confs\")\n",
    "with open(\"confs/genomes.conf\", 'w') as out_f:\n",
    "    out_f.write(\"[scaffolds]\\n\")\n",
    "    for twobit in glob.glob(\"ncbi-genomes/*/*2bit\"):\n",
    "        name=twobit.split(\"/\")[-1].replace(\".2bit\", \"\")\n",
    "        outline=\"{}:{}\\n\".format(name, twobit)\n",
    "        out_f.write(outline)"
   ]
  },
  {
   "cell_type": "code",
   "execution_count": 14,
   "id": "surrounded-reputation",
   "metadata": {
    "ExecuteTime": {
     "end_time": "2021-03-25T17:46:38.432082Z",
     "start_time": "2021-03-25T17:46:38.414231Z"
    }
   },
   "outputs": [
    {
     "name": "stderr",
     "output_type": "stream",
     "text": [
      "bash: line 4: phyluce_probe_slice_sequence_from_genomes: command not found\n"
     ]
    }
   ],
   "source": [
    "%%bash\n",
    "\n",
    "#extract UCE loci +- 1Kb\n",
    "phyluce_probe_slice_sequence_from_genomes \\\n",
    "    --lastz ncbi-genomes-lastz \\\n",
    "    --conf confs/genomes.conf \\\n",
    "    --flank 1000 \\\n",
    "    --name-pattern \"cestoda_probes.fas_v_{}.lastz.clean\" \\\n",
    "    --output ncbi-genomes-uce-fasta\n",
    "\n",
    "#the genome uce contigs will be combined with the assemblies"
   ]
  },
  {
   "cell_type": "markdown",
   "id": "global-powder",
   "metadata": {},
   "source": [
    "## UCEs from enriched samples"
   ]
  },
  {
   "cell_type": "code",
   "execution_count": 8,
   "id": "sharing-fifty",
   "metadata": {
    "ExecuteTime": {
     "end_time": "2021-03-25T20:29:55.881531Z",
     "start_time": "2021-03-25T20:29:55.877760Z"
    }
   },
   "outputs": [],
   "source": [
    "os.chdir(\"/master/nplatt/patho_detect/results/extract_schistosoma_loci\")"
   ]
  },
  {
   "cell_type": "markdown",
   "id": "bored-nancy",
   "metadata": {},
   "source": [
    "### Get reads that map to Schistosoma from Bartonella Kraken run"
   ]
  },
  {
   "cell_type": "code",
   "execution_count": 9,
   "id": "loving-sweet",
   "metadata": {
    "ExecuteTime": {
     "end_time": "2021-03-25T20:42:03.081744Z",
     "start_time": "2021-03-25T20:30:03.526615Z"
    }
   },
   "outputs": [
    {
     "data": {
      "application/vnd.jupyter.widget-view+json": {
       "model_id": "835e067a16e14539ae94077b98f91cdd",
       "version_major": 2,
       "version_minor": 0
      },
      "text/plain": [
       "  0%|          | 0/54 [00:00<?, ?it/s]"
      ]
     },
     "metadata": {},
     "output_type": "display_data"
    }
   ],
   "source": [
    "#get the read ids\n",
    "for sample in tqdm(samples):\n",
    "    \n",
    "    #short name\n",
    "    short_name=sample.split(\"_\")[0]\n",
    "\n",
    "    #mkdir to save reads and read lists\n",
    "    pathlib.Path(\"/master/nplatt/patho_detect/results/extract_schistosoma_loci/schistosoma-reads/{}/\".format(short_name)).mkdir(parents=True, exist_ok=True)    \n",
    "\n",
    "    #get kraken table that lists reads with terminal taxa\n",
    "    results_tbl=\"/master/nplatt/patho_detect/results/extract_bartonella_loci/04_kraken2/{}/{}_kraken.tbl\".format(short_name, short_name)\n",
    "\n",
    "    #get reads ids that have target taxa hits\n",
    "    with open(results_tbl, 'r') as in_f:\n",
    "        with open(\"/master/nplatt/patho_detect/results/extract_schistosoma_loci/schistosoma-reads/{}/reads.txt\".format(short_name), 'w') as out_f:\n",
    "            for entry in in_f:\n",
    "                if \"schistosoma\" in entry.lower():\n",
    "                    out_f.write(\"{}\\n\".format(entry.split(\"\\t\")[1]))\n",
    "                    "
   ]
  },
  {
   "cell_type": "code",
   "execution_count": 10,
   "id": "proud-absolute",
   "metadata": {
    "ExecuteTime": {
     "end_time": "2021-03-25T20:44:18.329798Z",
     "start_time": "2021-03-25T20:42:03.085016Z"
    }
   },
   "outputs": [
    {
     "data": {
      "application/vnd.jupyter.widget-view+json": {
       "model_id": "b59e3aaabca14a8dac450420a02e982e",
       "version_major": 2,
       "version_minor": 0
      },
      "text/plain": [
       "  0%|          | 0/54 [00:00<?, ?it/s]"
      ]
     },
     "metadata": {},
     "output_type": "display_data"
    }
   ],
   "source": [
    "#extract the reads\n",
    "                           \n",
    "samples_w_gt10k_reads = []\n",
    "for sample in tqdm(samples):\n",
    "    \n",
    "    short_name=sample.split(\"_\")[0]\n",
    "\n",
    "    for read in [\"1\", \"2\"]:\n",
    "        in_reads  = \"/master/nplatt/patho_detect/results/extract_bartonella_loci/03_clean-fastq/{}/split-adapter-quality-trimmed/{}-READ{}.fastq.gz\".format(short_name, short_name, read)\n",
    "        in_list   = \"/master/nplatt/patho_detect/results/extract_schistosoma_loci/schistosoma-reads/{}/reads.txt\".format(short_name)\n",
    "        out_reads = \"/master/nplatt/patho_detect/results/extract_schistosoma_loci/schistosoma-reads/{}/{}-READ{}.fastq\".format(short_name, short_name, read)\n",
    "\n",
    "        #count num reads (only proceed if greater than 10K)\n",
    "        count = len(open(in_list).readlines(  ))\n",
    "        \n",
    "        if count >= 10_000:\n",
    "            samples_w_gt10k_reads.append(short_name)\n",
    "            #extract reads with seqtk\n",
    "            cmd=\"seqtk subseq {} {} >{}\".format(in_reads, in_list, out_reads)\n",
    "            !{cmd}\n",
    "            \n",
    "samples_w_gt10k_reads=list(set(samples_w_gt10k_reads))"
   ]
  },
  {
   "cell_type": "code",
   "execution_count": 11,
   "id": "greatest-mistress",
   "metadata": {
    "ExecuteTime": {
     "end_time": "2021-03-25T20:44:18.340356Z",
     "start_time": "2021-03-25T20:44:18.333259Z"
    }
   },
   "outputs": [
    {
     "data": {
      "text/plain": [
       "['Hamster1', 'TK25651', 'Hamster2', 'Hamster4']"
      ]
     },
     "execution_count": 11,
     "metadata": {},
     "output_type": "execute_result"
    }
   ],
   "source": [
    "samples_w_gt10k_reads"
   ]
  },
  {
   "cell_type": "code",
   "execution_count": null,
   "id": "developing-berlin",
   "metadata": {},
   "outputs": [],
   "source": [
    "%%bash\n",
    "\n",
    "#gzip all of the fastq files\n",
    "for FASTQ in $(ls schistosoma-reads/*/*-READ*.fastq); do \n",
    "    gzip $FASTQ & \n",
    "done"
   ]
  },
  {
   "cell_type": "markdown",
   "id": "binary-october",
   "metadata": {},
   "source": [
    "### Assemble Schistosoma loci"
   ]
  },
  {
   "cell_type": "code",
   "execution_count": 12,
   "id": "beginning-treasury",
   "metadata": {
    "ExecuteTime": {
     "end_time": "2021-03-25T21:19:06.181978Z",
     "start_time": "2021-03-25T21:19:06.170206Z"
    }
   },
   "outputs": [],
   "source": [
    "#make phyluce assembly.conf\n",
    "with open(\"confs/assembly.conf\", 'w') as out_f:\n",
    "    out_f.write(\"[samples]\\n\")\n",
    "    \n",
    "    for sample in samples_w_gt10k_reads:\n",
    "        short_name=sample.split(\"_\")[0]\n",
    "        read_dir = \"/master/nplatt/patho_detect/results/extract_schistosoma_loci/schistosoma-reads/{}/\".format(short_name)\n",
    "        out_f.write(\"{}:{}\\n\".format(short_name, read_dir))"
   ]
  },
  {
   "cell_type": "code",
   "execution_count": null,
   "id": "pressing-signature",
   "metadata": {},
   "outputs": [],
   "source": [
    "%%bash \n",
    "\n",
    "#fun phyluce assembly with spades\n",
    "phyluce_assembly_assemblo_spades \\\n",
    "    --conf /master/nplatt/patho_detect/results/extract_schistosoma_loci/confs/assembly.conf \\\n",
    "    --output /master/nplatt/patho_detect/results/extract_schistosoma_loci/spades-assemblies \\\n",
    "    --cores 24 \\\n",
    "    --memory 768 \\\n",
    "    --log-path /master/nplatt/patho_detect/results/extract_schistosoma_loci/logs "
   ]
  },
  {
   "cell_type": "code",
   "execution_count": null,
   "id": "micro-opinion",
   "metadata": {},
   "outputs": [],
   "source": [
    "%%bash\n",
    "\n",
    "#add genome uces to the assembly dir\n",
    "mkdir /master/nplatt/patho_detect/results/extract_schistosoma_loci/all_assemblies\n",
    "\n",
    "cp /master/nplatt/patho_detect/results/extract_schistosoma_loci/ncbi-genomes-uce-fasta/*.fasta all_assemblies/\n",
    "cp /master/nplatt/patho_detect/results/extract_schistosoma_loci/spades-assemblies/contigs/*.fasta all_assemblies/\n",
    "\n",
    "rename .contigs.fasta .fasta all_assemblies/*.contigs.fasta"
   ]
  },
  {
   "cell_type": "markdown",
   "id": "satisfactory-washer",
   "metadata": {},
   "source": [
    "### Find UCE loci in assemblies"
   ]
  },
  {
   "cell_type": "code",
   "execution_count": null,
   "id": "inner-humor",
   "metadata": {},
   "outputs": [],
   "source": [
    "%%bash \n",
    "\n",
    "#find probed regions in assemblies\n",
    "phyluce_assembly_match_contigs_to_probes \\\n",
    "    --contigs /master/nplatt/patho_detect/results/extract_schistosoma_loci/all_assemblies \\\n",
    "    --probes /master/nplatt/patho_detect/results/extract_schistosoma_loci/cestoda_probes.fas \\\n",
    "    --min-identity 75 \\\n",
    "    --output /master/nplatt/patho_detect/results/extract_schistosoma_loci/schistosoma_uce-search-results \\\n",
    "    --log-path /master/nplatt/patho_detect/results/extract_schistosoma_loci/logs "
   ]
  },
  {
   "cell_type": "markdown",
   "id": "temporal-philip",
   "metadata": {},
   "source": [
    "### Extract Loci"
   ]
  },
  {
   "cell_type": "code",
   "execution_count": 13,
   "id": "entitled-attendance",
   "metadata": {
    "ExecuteTime": {
     "end_time": "2021-03-25T21:25:52.494262Z",
     "start_time": "2021-03-25T21:25:52.483464Z"
    }
   },
   "outputs": [],
   "source": [
    "#make phyluce assembly.conf\n",
    "with open(\"confs/taxon-set.conf\", 'w') as out_f:\n",
    "    out_f.write(\"[all]\\n\")\n",
    "    for assembly in glob.glob(\"all_assemblies/*.fasta\"):\n",
    "        short_name=assembly.replace(\".fasta\", \"\").split(\"/\")[-1]\n",
    "        out_f.write(\"{}\\n\".format(short_name,))"
   ]
  },
  {
   "cell_type": "code",
   "execution_count": null,
   "id": "floral-footwear",
   "metadata": {},
   "outputs": [],
   "source": [
    "%%bash \n",
    "\n",
    "mkdir -p taxon-sets/all\n",
    "\n",
    "# create the data matrix configuration file\n",
    "phyluce_assembly_get_match_counts \\\n",
    "    --locus-db schistosoma_uce-search-results/probe.matches.sqlite \\\n",
    "    --taxon-list-config confs/taxon-set.conf \\\n",
    "    --taxon-group 'all' \\\n",
    "    --incomplete-matrix \\\n",
    "    --output taxon-sets/all/all-taxa-incomplete.conf \\\n",
    "    --log-path /master/nplatt/patho_detect/results/extract_schistosoma_loci/logs "
   ]
  },
  {
   "cell_type": "code",
   "execution_count": null,
   "id": "industrial-jungle",
   "metadata": {},
   "outputs": [],
   "source": [
    "cd taxon-sets/all\n",
    "\n",
    "# make a log directory to hold our log files - this keeps things neat\n",
    "\n",
    "# get FASTA data for taxa in our taxon set\n",
    "phyluce_assembly_get_fastas_from_match_counts \\\n",
    "    --contigs /master/nplatt/patho_detect/results/extract_schistosoma_loci/all_assemblies  \\\n",
    "    --locus-db /master/nplatt/patho_detect/results/extract_schistosoma_loci/schistosoma_uce-search-results/probe.matches.sqlite \\\n",
    "    --match-count-output all-taxa-incomplete.conf \\\n",
    "    --output all-taxa-incomplete.fasta \\\n",
    "    --incomplete-matrix all-taxa-incomplete.incomplete \\\n",
    "    --log-path /master/nplatt/patho_detect/results/extract_schistosoma_loci/logs "
   ]
  },
  {
   "cell_type": "code",
   "execution_count": null,
   "id": "technological-letter",
   "metadata": {},
   "outputs": [],
   "source": [
    "phyluce_assembly_explode_get_fastas_file \\\n",
    "    --input all-taxa-incomplete.fasta \\\n",
    "    --output exploded-fastas \\\n",
    "    --by-taxon\n",
    "    \n",
    "# get summary stats on the FASTAS\n",
    "echo \"samples,contigs,total bp,mean length,95 CI length,min length,max length,median legnth,contigs >1kb\">uce_stats.csv\n",
    "    \n",
    "for i in exploded-fastas/*.fasta; do\n",
    "    phyluce_assembly_get_fasta_lengths \\\n",
    "        --input $i \\\n",
    "        --csv\n",
    "done >>uce_stats.csv\n"
   ]
  },
  {
   "cell_type": "markdown",
   "id": "modular-harrison",
   "metadata": {},
   "source": [
    "### Align and trim loci"
   ]
  },
  {
   "cell_type": "code",
   "execution_count": null,
   "id": "certified-conviction",
   "metadata": {},
   "outputs": [],
   "source": [
    "# align the data\n",
    "phyluce_align_seqcap_align \\\n",
    "    --input all-taxa-incomplete.fasta \\\n",
    "    --output mafft-nexus-edge-trimmed \\\n",
    "    --taxa 4 \\\n",
    "    --aligner mafft \\\n",
    "    --cores 12 \\\n",
    "    --incomplete-matrix \\\n",
    "    --log-path /master/nplatt/patho_detect/results/extract_schistosoma_loci/logs "
   ]
  },
  {
   "cell_type": "code",
   "execution_count": null,
   "id": "clean-stanley",
   "metadata": {},
   "outputs": [],
   "source": [
    "phyluce_align_seqcap_align \\\n",
    "    --input all-taxa-incomplete.fasta \\\n",
    "    --output mafft-nexus-internal-trimmed \\\n",
    "    --taxa 4 \\\n",
    "    --aligner mafft \\\n",
    "    --cores 12 \\\n",
    "    --incomplete-matrix \\\n",
    "    --output-format fasta \\\n",
    "    --no-trim \\\n",
    "    --log-path /master/nplatt/patho_detect/results/extract_schistosoma_loci/logs "
   ]
  },
  {
   "cell_type": "code",
   "execution_count": null,
   "id": "younger-float",
   "metadata": {},
   "outputs": [],
   "source": [
    "phyluce_align_get_gblocks_trimmed_alignments_from_untrimmed \\\n",
    "    --alignments mafft-nexus-internal-trimmed \\\n",
    "    --output mafft-nexus-internal-trimmed-gblocks \\\n",
    "    --cores 12 \\\n",
    "    --log-path /master/nplatt/patho_detect/results/extract_schistosoma_loci/logs "
   ]
  },
  {
   "cell_type": "code",
   "execution_count": null,
   "id": "critical-analysis",
   "metadata": {},
   "outputs": [],
   "source": [
    "phyluce_align_remove_locus_name_from_files \\\n",
    "    --alignments mafft-nexus-internal-trimmed-gblocks \\\n",
    "    --output mafft-nexus-internal-trimmed-gblocks-clean \\\n",
    "    --cores 12 \\\n",
    "    --log-path /master/nplatt/patho_detect/results/extract_schistosoma_loci/logs "
   ]
  },
  {
   "cell_type": "code",
   "execution_count": null,
   "id": "polished-portsmouth",
   "metadata": {},
   "outputs": [],
   "source": [
    "phyluce_align_get_only_loci_with_min_taxa \\\n",
    "    --alignments mafft-nexus-internal-trimmed-gblocks-clean \\\n",
    "    --taxa 4 \\\n",
    "    --percent 0.25 \\\n",
    "    --output mafft-nexus-internal-trimmed-gblocks-clean-25p \\\n",
    "    --cores 12 \\\n",
    "    --log-path /master/nplatt/patho_detect/results/extract_schistosoma_loci/logs "
   ]
  },
  {
   "cell_type": "code",
   "execution_count": null,
   "id": "adverse-packaging",
   "metadata": {
    "ExecuteTime": {
     "end_time": "2021-03-19T14:57:58.010345Z",
     "start_time": "2021-03-19T14:57:58.003479Z"
    }
   },
   "outputs": [],
   "source": [
    "phyluce_align_concatenate_alignments \\\n",
    "    --alignments mafft-nexus-internal-trimmed-gblocks-clean-25p \\\n",
    "    --output mafft-nexus-internal-trimmed-gblocks-clean-25p-raxml \\\n",
    "    --nexus \\\n",
    "    --log-path /master/nplatt/patho_detect/results/extract_schistosoma_loci/logs"
   ]
  },
  {
   "cell_type": "code",
   "execution_count": null,
   "id": "historical-trouble",
   "metadata": {},
   "outputs": [],
   "source": [
    "mkdir /master/nplatt/patho_detect/results/extract_schistosoma_loci/uce_alignments\n",
    "\n",
    "cp mafft-nexus-internal-trimmed-gblocks-clean-25p-raxml/mafft-nexus-internal-trimmed-gblocks-clean-25p-raxml* \\\n",
    "    /master/nplatt/patho_detect/results/extract_schistosoma_loci/uce_alignments/"
   ]
  },
  {
   "cell_type": "code",
   "execution_count": null,
   "id": "sticky-economics",
   "metadata": {},
   "outputs": [],
   "source": [
    "phyluce_align_concatenate_alignments \\\n",
    "    --alignments mafft-nexus-internal-trimmed-gblocks-clean-25p \\\n",
    "    --output mafft-nexus-internal-trimmed-gblocks-clean-25p-raxml \\\n",
    "    --phylip \\\n",
    "    --log-path /master/nplatt/patho_detect/results/extract_schistosoma_loci/logs "
   ]
  },
  {
   "cell_type": "code",
   "execution_count": null,
   "id": "native-asthma",
   "metadata": {},
   "outputs": [],
   "source": [
    "cp mafft-nexus-internal-trimmed-gblocks-clean-25p-raxml/mafft-nexus-internal-trimmed-gblocks-clean-25p-raxml* \\\n",
    "    /master/nplatt/patho_detect/results/extract_schistosoma_loci/uce_alignments/"
   ]
  },
  {
   "cell_type": "markdown",
   "id": "careful-rochester",
   "metadata": {},
   "source": [
    "# Build phylogeny"
   ]
  },
  {
   "cell_type": "code",
   "execution_count": null,
   "id": "applied-alignment",
   "metadata": {},
   "outputs": [],
   "source": [
    "cd /master/nplatt/patho_detect/results/extract_schistosoma_loci\n",
    "\n",
    "raxml-ng \\\n",
    "    --all \\\n",
    "    --prefix 25pn_75pid_bacillus \\\n",
    "    --seed 12345 \\\n",
    "    --msa  /master/nplatt/patho_detect/results/extract_schistosoma_loci/uce_alignments/mafft-nexus-internal-trimmed-gblocks-clean-25p-raxml.phylip \\\n",
    "    --msa-format PHYLIP \\\n",
    "    --data-type DNA \\\n",
    "    --model GTR+G \\\n",
    "    --tree pars{10} \\\n",
    "    --bs-trees 200 \\\n",
    "    --threads 24 \\\n",
    "    --workers 8"
   ]
  }
 ],
 "metadata": {
  "kernelspec": {
   "display_name": "Python 3",
   "language": "python",
   "name": "python3"
  },
  "language_info": {
   "codemirror_mode": {
    "name": "ipython",
    "version": 3
   },
   "file_extension": ".py",
   "mimetype": "text/x-python",
   "name": "python",
   "nbconvert_exporter": "python",
   "pygments_lexer": "ipython3",
   "version": "3.6.12"
  }
 },
 "nbformat": 4,
 "nbformat_minor": 5
}
