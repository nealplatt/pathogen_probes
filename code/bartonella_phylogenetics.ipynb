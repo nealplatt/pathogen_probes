{
 "cells": [
  {
   "cell_type": "markdown",
   "id": "advisory-perth",
   "metadata": {},
   "source": [
    "# Bartonella phylogenetics"
   ]
  },
  {
   "cell_type": "code",
   "execution_count": null,
   "id": "exclusive-complement",
   "metadata": {},
   "outputs": [],
   "source": [
    "#conda activate patho_detect-phylo"
   ]
  },
  {
   "cell_type": "code",
   "execution_count": 1,
   "id": "appointed-reserve",
   "metadata": {
    "ExecuteTime": {
     "end_time": "2021-03-19T14:59:50.106753Z",
     "start_time": "2021-03-19T14:59:47.667408Z"
    }
   },
   "outputs": [],
   "source": [
    "import os\n",
    "import pandas as pd\n",
    "import numpy as np\n",
    "import matplotlib.pyplot as plt\n",
    "from tqdm.notebook import tqdm\n",
    "from Bio import SeqIO\n",
    "import pathlib\n",
    "import glob\n",
    "import re"
   ]
  },
  {
   "cell_type": "code",
   "execution_count": 2,
   "id": "functioning-lesson",
   "metadata": {
    "ExecuteTime": {
     "end_time": "2021-03-19T14:59:50.741020Z",
     "start_time": "2021-03-19T14:59:50.737526Z"
    }
   },
   "outputs": [],
   "source": [
    "os.chdir('/master/nplatt/patho_detect/')"
   ]
  },
  {
   "cell_type": "code",
   "execution_count": 4,
   "id": "stylish-hearts",
   "metadata": {
    "ExecuteTime": {
     "end_time": "2021-03-19T14:59:56.615475Z",
     "start_time": "2021-03-19T14:59:56.607386Z"
    }
   },
   "outputs": [],
   "source": [
    "os.mkdir('results/bartonella_phylo')\n",
    "os.mkdir('results/bartonella_phylo/logs')\n",
    "os.mkdir('results/bartonella_phylo/raxml')\n"
   ]
  },
  {
   "cell_type": "code",
   "execution_count": 5,
   "id": "hydraulic-billy",
   "metadata": {
    "ExecuteTime": {
     "end_time": "2021-03-19T14:59:58.376653Z",
     "start_time": "2021-03-19T14:59:58.373385Z"
    }
   },
   "outputs": [],
   "source": [
    "os.chdir(\"/master/nplatt/patho_detect/results/bartonella_phylo\")"
   ]
  },
  {
   "cell_type": "markdown",
   "id": "careful-rochester",
   "metadata": {},
   "source": [
    "## RaxML"
   ]
  },
  {
   "cell_type": "code",
   "execution_count": 6,
   "id": "funky-webmaster",
   "metadata": {
    "ExecuteTime": {
     "end_time": "2021-03-19T15:00:00.585169Z",
     "start_time": "2021-03-19T15:00:00.581788Z"
    }
   },
   "outputs": [],
   "source": [
    "os.chdir(\"/master/nplatt/patho_detect/results/bartonella_phylo/raxml\")"
   ]
  },
  {
   "cell_type": "code",
   "execution_count": null,
   "id": "finite-freedom",
   "metadata": {},
   "outputs": [],
   "source": [
    "%%bash\n",
    "\n",
    "raxml-ng \\\n",
    "    --all \\\n",
    "    --prefix 25pn_75pid_bart_bruc \\\n",
    "    --seed 12345 \\\n",
    "    --msa  /master/nplatt/patho_detect/results/extract_bartonella_loci/10_uce_alignments/mafft-nexus-internal-trimmed-gblocks-clean-25p-raxml.phylip \\\n",
    "    --msa-format PHYLIP \\\n",
    "    --data-type DNA \\\n",
    "    --model GTR+G \\\n",
    "    --tree pars{10} \\\n",
    "    --bs-trees 200 \\\n",
    "    --threads 48 \\\n",
    "    --workers 4"
   ]
  }
 ],
 "metadata": {
  "kernelspec": {
   "display_name": "Python 3",
   "language": "python",
   "name": "python3"
  },
  "language_info": {
   "codemirror_mode": {
    "name": "ipython",
    "version": 3
   },
   "file_extension": ".py",
   "mimetype": "text/x-python",
   "name": "python",
   "nbconvert_exporter": "python",
   "pygments_lexer": "ipython3",
   "version": "3.6.12"
  }
 },
 "nbformat": 4,
 "nbformat_minor": 5
}
