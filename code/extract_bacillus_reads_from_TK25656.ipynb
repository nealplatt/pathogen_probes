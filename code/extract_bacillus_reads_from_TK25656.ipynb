{
 "cells": [
  {
   "cell_type": "markdown",
   "id": "advisory-perth",
   "metadata": {},
   "source": [
    "# Extract and analyze bacillus reads"
   ]
  },
  {
   "cell_type": "code",
   "execution_count": null,
   "id": "exclusive-complement",
   "metadata": {},
   "outputs": [],
   "source": [
    "#conda activate phyluce"
   ]
  },
  {
   "cell_type": "code",
   "execution_count": 1,
   "id": "appointed-reserve",
   "metadata": {
    "ExecuteTime": {
     "end_time": "2021-03-24T17:02:28.580558Z",
     "start_time": "2021-03-24T17:02:26.422351Z"
    }
   },
   "outputs": [],
   "source": [
    "import os\n",
    "import pandas as pd\n",
    "import numpy as np\n",
    "import matplotlib.pyplot as plt\n",
    "from tqdm.notebook import tqdm\n",
    "from Bio import SeqIO\n",
    "import pathlib\n",
    "import glob\n",
    "import re"
   ]
  },
  {
   "cell_type": "code",
   "execution_count": 2,
   "id": "functioning-lesson",
   "metadata": {
    "ExecuteTime": {
     "end_time": "2021-03-24T17:02:29.669989Z",
     "start_time": "2021-03-24T17:02:29.666419Z"
    }
   },
   "outputs": [],
   "source": [
    "os.chdir('/master/nplatt/patho_detect/')"
   ]
  },
  {
   "cell_type": "code",
   "execution_count": 3,
   "id": "hired-algeria",
   "metadata": {
    "ExecuteTime": {
     "end_time": "2021-03-24T17:02:32.670393Z",
     "start_time": "2021-03-24T17:02:32.663023Z"
    }
   },
   "outputs": [],
   "source": [
    "with open('data/19047-23/samples.list') as infile:\n",
    "    samples = infile.read().splitlines()"
   ]
  },
  {
   "cell_type": "code",
   "execution_count": 4,
   "id": "stylish-hearts",
   "metadata": {
    "ExecuteTime": {
     "end_time": "2021-03-24T17:03:02.070477Z",
     "start_time": "2021-03-24T17:03:02.062633Z"
    }
   },
   "outputs": [],
   "source": [
    "os.mkdir('results/extract_bacillus_from_TK25656')\n",
    "os.mkdir('results/extract_bacillus_from_TK25656/logs')"
   ]
  },
  {
   "cell_type": "code",
   "execution_count": 5,
   "id": "hydraulic-billy",
   "metadata": {
    "ExecuteTime": {
     "end_time": "2021-03-24T17:03:03.590064Z",
     "start_time": "2021-03-24T17:03:03.586788Z"
    }
   },
   "outputs": [],
   "source": [
    "os.chdir(\"/master/nplatt/patho_detect/results/extract_bacillus_from_TK25656\")"
   ]
  },
  {
   "cell_type": "markdown",
   "id": "falling-absolute",
   "metadata": {},
   "source": [
    "## UCEs from reference genomes\n",
    "\n",
    "Bartonella and Brucella"
   ]
  },
  {
   "cell_type": "code",
   "execution_count": null,
   "id": "sticky-ethics",
   "metadata": {
    "ExecuteTime": {
     "end_time": "2021-03-12T22:49:33.523519Z",
     "start_time": "2021-03-12T22:49:32.888586Z"
    }
   },
   "outputs": [],
   "source": [
    "%%bash\n",
    "\n",
    "# #download genomes - here all refseq representtives (n=36)\n",
    "# ~/patho_detect/data/bartonella-ncbi-genomes-2021-03-10\n",
    "\n",
    "#process to appropriate 2bit format (and rename)\n",
    "IN_DIR=\"/master/nplatt/patho_detect/data/ncbi-genomes-2021-03-24\"\n",
    "OUT_DIR=\"/master/nplatt/patho_detect/results/extract_bacillus_from_TK25656/ncbi-genomes\"\n",
    "\n",
    "mkdir $OUT_DIR\n",
    "\n",
    "#get brucella genomes (to be modified)\n",
    "cp $IN_DIR/GCF_000008445.1_ASM844v1_genomic.fna.gz $OUT_DIR/b_anthracis_GCF_000008445.fa.gz\n",
    "cp $IN_DIR/GCF_000011645.1_ASM1164v1_genomic.fna.gz $OUT_DIR/b_licheniformis_GCF_000011645.fa.gz\n",
    "cp $IN_DIR/GCF_000021205.1_ASM2120v1_genomic.fna.gz $OUT_DIR/b_cereus_GCF_000021205.fa.gz\n",
    "cp $IN_DIR/GCF_000177235.2_ASM17723v2_genomic.fna.gz $OUT_DIR/b_cellulosilyticus_GCF_000177235.fa.gz\n",
    "cp $IN_DIR/GCF_000473245.1_ASM47324v1_genomic.fna.gz $OUT_DIR/b_infantis_GCF_000473245.fa.gz\n",
    "cp $IN_DIR/GCF_000972685.1_ASM97268v1_genomic.fna.gz $OUT_DIR/b_altitudinis_GCF_000972685.fa.gz\n",
    "cp $IN_DIR/GCF_001050115.1_ASM105011v1_genomic.fna.gz  $OUT_DIR/b_smithii_GCF_001050115.fa.gz\n",
    "cp $IN_DIR/GCF_001721685.1_ASM172168v1_genomic.fna.gz $OUT_DIR/b_beveridgei_GCF_001721685.fa.gz\n",
    "cp $IN_DIR/GCF_001730235.1_ASM173023v1_genomic.fna.gz $OUT_DIR/vulcanibacillus_modesticaldus_GCF_001730235.fa.gz\n",
    "cp $IN_DIR/GCF_001857925.1_ASM185792v1_genomic.fna.gz $OUT_DIR/b_xiamenensis_GCF_001857925.fa.gz\n",
    "cp $IN_DIR/GCF_001889165.1_ASM188916v1_genomic.fna.gz  $OUT_DIR/b_weihaiensis_GCF_001889165.fa.gz\n",
    "cp $IN_DIR/GCF_002117165.1_ASM211716v1_genomic.fna.gz $OUT_DIR/b_velezensis_GCF_002117165.fa.gz\n",
    "cp $IN_DIR/GCF_002250055.1_ASM225005v1_genomic.fna.gz $OUT_DIR/b_cohnii_GCF_002250055.fa.gz\n",
    "cp $IN_DIR/GCF_002250945.2_ASM225094v2_genomic.fna.gz $OUT_DIR/b_cytotoxicus_GCF_002250945.fa.gz\n",
    "cp $IN_DIR/GCF_002993925.1_ASM299392v1_genomic.fna.gz $OUT_DIR/b_paralicheniformis_GCF_002993925.fa.gz\n",
    "cp $IN_DIR/GCF_003096215.1_ASM309621v1_genomic.fna.gz $OUT_DIR/b_thermoamylovorans_GCF_003096215.fa.gz\n",
    "cp $IN_DIR/GCF_003667885.1_ASM366788v1_genomic.fna.gz $OUT_DIR/b_vallismortis_GCF_003667885.fa.gz\n",
    "cp $IN_DIR/GCF_004006435.1_ASM400643v1_genomic.fna.gz $OUT_DIR/b_halotolerans_GCF_004006435.fa.gz\n",
    "cp $IN_DIR/GCF_006704205.1_ASM670420v1_genomic.fna.gz $OUT_DIR/b_ciccensis_GCF_006704205.fa.gz\n",
    "cp $IN_DIR/GCF_007995155.1_ASM799515v1_genomic.fna.gz $OUT_DIR/b_dafuensis_GCF_007995155.fa.gz\n",
    "cp $IN_DIR/GCF_008244765.1_ASM824476v1_genomic.fna.gz $OUT_DIR/b_safensis_GCF_008244765.fa.gz\n",
    "cp $IN_DIR/GCF_008807735.1_ASM880773v1_genomic.fna.gz $OUT_DIR/b_wiedmannii_GCF_008807735.fa.gz\n",
    "cp $IN_DIR/GCF_009739945.1_ASM973994v1_genomic.fna.gz $OUT_DIR/b_luti_GCF_009739945.fa.gz\n",
    "cp $IN_DIR/GCF_012225885.1_ASM1222588v1_genomic.fna.gz $OUT_DIR/b_tequilensis_GCF_012225885.fa.gz\n",
    "cp $IN_DIR/GCF_012648005.1_ASM1264800v1_genomic.fna.gz $OUT_DIR/b_mojavensis_GCF_012648005.fa.gz\n",
    "cp $IN_DIR/GCF_013122255.1_ASM1312225v1_genomic.fna.gz $OUT_DIR/b_amyloliquefaciens_GCF_013122255.fa.gz\n",
    "cp $IN_DIR/GCF_013267435.1_ASM1326743v1_genomic.fna.gz $OUT_DIR/b_circulans_GCF_013267435.fa.gz\n",
    "cp $IN_DIR/GCF_900093775.1_EVONIK_BGLY_genomic.fna.gz $OUT_DIR/b_glycinifermentans_GCF_900093775.fa.gz\n",
    "cp $IN_DIR/GCF_900475885.1_49595_C01_genomic.fna.gz $OUT_DIR/haemophilus_aegyptius_GCF_900475885.fa.gz\n",
    "cp $IN_DIR/GCF_900636945.1_45532_G01_genomic.fna.gz $OUT_DIR/b_freudenreichii_GCF_900636945.fa.gz\n",
    "\n",
    "#\n",
    "for FAS in $(ls $OUT_DIR/*.fa.gz); do\n",
    "    TWOBIT=$(basename $FAS .fa.gz).2bit\n",
    "    faToTwoBit $FAS $OUT_DIR/$TWOBIT\n",
    "    \n",
    "    INFO=$(basename $TWOBIT .2bit).tab\n",
    "    twoBitInfo $OUT_DIR/$TWOBIT $OUT_DIR/$INFO\n",
    "    \n",
    "    NAME=$(basename $FAS .fa.gz)\n",
    "    mkdir $OUT_DIR/$NAME\n",
    "    mv  $OUT_DIR/$NAME*  $OUT_DIR/$NAME\n",
    "done\n",
    "\n"
   ]
  },
  {
   "cell_type": "code",
   "execution_count": null,
   "id": "deluxe-stylus",
   "metadata": {},
   "outputs": [],
   "source": [
    "%%bash\n",
    "\n",
    "#get bartonella probes\n",
    "cat ~/patho_detect/decon_probes.fas | grep -A1 --no-group-separator -i bacillus >bacillus_probes.fas\n",
    "\n",
    "#and clean up the names so they match the Faircloth format\n",
    "sed -i 's/uce_bacillus_/uce-/' bacillus_probes.fas\n",
    "\n",
    "####get rid of streptobacills probes"
   ]
  },
  {
   "cell_type": "code",
   "execution_count": null,
   "id": "toxic-steal",
   "metadata": {
    "ExecuteTime": {
     "end_time": "2021-03-11T17:25:45.034249Z",
     "start_time": "2021-03-11T17:25:44.946676Z"
    }
   },
   "outputs": [],
   "source": [
    "%%bash\n",
    "\n",
    "#make sure ulimit is greater than 4k\n",
    "ulimit -n 8192\n",
    "\n",
    "phyluce_probe_run_multiple_lastzs_sqlite \\\n",
    "    --db ncbi-genomes-lastz/ncbi-genomes.sqlite \\\n",
    "    --output ncbi-genomes-lastz \\\n",
    "    --identity 0.75 \\\n",
    "    --scaffoldlist b_anthracis_GCF_000008445 \\\n",
    "        b_licheniformis_GCF_000011645 \\\n",
    "        b_cereus_GCF_000021205 \\\n",
    "        b_cellulosilyticus_GCF_000177235 \\\n",
    "        b_infantis_GCF_000473245 \\\n",
    "        b_altitudinis_GCF_000972685 \\\n",
    "        b_smithii_GCF_001050115 \\\n",
    "        b_beveridgei_GCF_001721685 \\\n",
    "        vulcanibacillus_modesticaldus_GCF_001730235 \\\n",
    "        b_xiamenensis_GCF_001857925 \\\n",
    "        b_weihaiensis_GCF_001889165 \\\n",
    "        b_velezensis_GCF_002117165 \\\n",
    "        b_cohnii_GCF_002250055 \\\n",
    "        b_cytotoxicus_GCF_002250945 \\\n",
    "        b_paralicheniformis_GCF_002993925 \\\n",
    "        b_thermoamylovorans_GCF_003096215 \\\n",
    "        b_vallismortis_GCF_003667885 \\\n",
    "        b_halotolerans_GCF_004006435 \\\n",
    "        b_ciccensis_GCF_006704205 \\\n",
    "        b_dafuensis_GCF_007995155 \\\n",
    "        b_safensis_GCF_008244765 \\\n",
    "        b_wiedmannii_GCF_008807735 \\\n",
    "        b_luti_GCF_009739945 \\\n",
    "        b_tequilensis_GCF_012225885 \\\n",
    "        b_mojavensis_GCF_012648005 \\\n",
    "        b_amyloliquefaciens_GCF_013122255 \\\n",
    "        b_circulans_GCF_013267435 \\\n",
    "        b_glycinifermentans_GCF_900093775 \\\n",
    "        haemophilus_aegyptius_GCF_900475885 \\\n",
    "        b_freudenreichii_GCF_900636945 \\\n",
    "    --genome-base-path /master/nplatt/patho_detect/results/extract_bacillus_from_TK25656/ncbi-genomes/ \\\n",
    "    --probefile bacillus_probes.fas \\\n",
    "    --cores 24 \\\n",
    "    --log-path /master/nplatt/patho_detect/results/extract_bacillus_from_TK25656/logs/"
   ]
  },
  {
   "cell_type": "code",
   "execution_count": 19,
   "id": "jewish-airport",
   "metadata": {
    "ExecuteTime": {
     "end_time": "2021-03-24T19:34:30.047059Z",
     "start_time": "2021-03-24T19:34:30.009512Z"
    }
   },
   "outputs": [],
   "source": [
    "#make a conf file\n",
    "\n",
    "with open(\"confs/genomes.conf\", 'w') as out_f:\n",
    "    out_f.write(\"[scaffolds]\\n\")\n",
    "    for twobit in glob.glob(\"ncbi-genomes/*/*2bit\"):\n",
    "        name=twobit.split(\"/\")[-1].replace(\".2bit\", \"\")\n",
    "        outline=\"{}:{}\\n\".format(name, twobit)\n",
    "        out_f.write(outline)"
   ]
  },
  {
   "cell_type": "code",
   "execution_count": null,
   "id": "surrounded-reputation",
   "metadata": {
    "ExecuteTime": {
     "end_time": "2021-03-17T14:10:01.498517Z",
     "start_time": "2021-03-17T14:10:01.477278Z"
    }
   },
   "outputs": [],
   "source": [
    "%%bash\n",
    "\n",
    "#extract UCE loci +- 1Kb\n",
    "phyluce_probe_slice_sequence_from_genomes \\\n",
    "    --lastz ncbi-genomes-lastz \\\n",
    "    --conf confs/genomes.conf \\\n",
    "    --flank 1000 \\\n",
    "    --name-pattern \"bacillus_probes.fas_v_{}.lastz.clean\" \\\n",
    "    --output ncbi-genomes-uce-fasta\n",
    "\n",
    "#the genome uce contigs will be combined with the assemblies"
   ]
  },
  {
   "cell_type": "markdown",
   "id": "global-powder",
   "metadata": {},
   "source": [
    "## UCEs from enriched samples"
   ]
  },
  {
   "cell_type": "code",
   "execution_count": 5,
   "id": "sharing-fifty",
   "metadata": {
    "ExecuteTime": {
     "end_time": "2021-03-23T19:08:31.947478Z",
     "start_time": "2021-03-23T19:08:31.943924Z"
    }
   },
   "outputs": [],
   "source": [
    "os.chdir(\"/master/nplatt/patho_detect/results/extract_bacillus_from_TK25656\")"
   ]
  },
  {
   "cell_type": "markdown",
   "id": "interesting-thickness",
   "metadata": {},
   "source": [
    "### Get and clean reads"
   ]
  },
  {
   "cell_type": "code",
   "execution_count": null,
   "id": "early-jones",
   "metadata": {},
   "outputs": [],
   "source": [
    "%%bash\n",
    "\n",
    "#get raw data in the proper name format\n",
    "mkdir raw-fastq\n",
    "\n",
    "cp ~/patho_detect/data/19047-23/TK25656_Exp5_43_P4_R*.fastq.gz raw-fastq/\n",
    "rename R1.fastq.gz L001_R1_001.fastq.gz raw-fastq/*R1*.gz\n",
    "rename R2.fastq.gz L001_R2_001.fastq.gz raw-fastq/*R2*.gz"
   ]
  },
  {
   "cell_type": "code",
   "execution_count": null,
   "id": "thermal-double",
   "metadata": {
    "ExecuteTime": {
     "end_time": "2021-03-24T17:07:04.147323Z",
     "start_time": "2021-03-24T17:07:04.096743Z"
    }
   },
   "outputs": [],
   "source": [
    "%%bash\n",
    "\n",
    "mkdir confs\n",
    "\n",
    "echo '[adapters]\n",
    "i7:GATCGGAAGAGCACACGTCTGAACTCCAGTCAC*ATCTCGTATGCCGTCTTCTGCTTG\n",
    "i5:AATGATACGGCGACCACCGAGATCTACAC*ACACTCTTTCCCTACACGACGCTCTTCCGATCT\n",
    "\n",
    "# this is the list of indexes we used\n",
    "[tag sequences]\n",
    "H10:TCCGCGAA\n",
    "\n",
    "# this is how each index maps to each set of reads\n",
    "[tag map]\n",
    "TK25656_Exp5_43_P4:H10\n",
    "\n",
    "# this is how we want files to be renamed\n",
    "[names]\n",
    "TK25656_Exp5_43_P4:TK25656' >confs/illumiprocessor.conf"
   ]
  },
  {
   "cell_type": "code",
   "execution_count": null,
   "id": "built-mozambique",
   "metadata": {
    "ExecuteTime": {
     "end_time": "2021-03-24T17:07:04.147323Z",
     "start_time": "2021-03-24T17:07:04.096743Z"
    }
   },
   "outputs": [],
   "source": [
    "#clean up raw reads\n",
    "illumiprocessor \\\n",
    "    --input raw-fastq/ \\\n",
    "    --output clean-fastq \\\n",
    "    --config confs/illumiprocessor.conf \\\n",
    "    --cores 24"
   ]
  },
  {
   "cell_type": "markdown",
   "id": "bored-nancy",
   "metadata": {},
   "source": [
    "### Get reads that map to Bacillus"
   ]
  },
  {
   "cell_type": "code",
   "execution_count": null,
   "id": "realistic-devon",
   "metadata": {},
   "outputs": [],
   "source": [
    "#previously ran kraken and know there is a lot of bacillus reads in th"
   ]
  },
  {
   "cell_type": "code",
   "execution_count": null,
   "id": "behavioral-savings",
   "metadata": {},
   "outputs": [],
   "source": [
    "%%bash\n",
    "\n",
    "#compare reads to kraken2 to get bartonella mapping reads\n",
    "for SAMPLE in $(ls clean-fastq); do\n",
    "    echo $SAMPLE\n",
    "\n",
    "    mkdir -p kraken2/$SAMPLE\n",
    "\n",
    "    #quanify/classify\n",
    "    ~/patho_detect/code/kraken2/kraken2 \\\n",
    "        --use-names \\\n",
    "        --threads 24 \\\n",
    "        --db ~/patho_detect/results/kraken2/pathodb_20201215 \\\n",
    "        --report kraken2/$SAMPLE/\"$SAMPLE\"_kraken.report \\\n",
    "        --classified-out kraken2/$SAMPLE/\"$SAMPLE\"_classifed#.fq \\\n",
    "        --unclassified-out kraken2/$SAMPLE/\"$SAMPLE\"_unclassifed#.fq \\\n",
    "        --gzip-compressed \\\n",
    "        --paired \\\n",
    "        clean-fastq/$SAMPLE/split-adapter-quality-trimmed/\"$SAMPLE\"-READ1.fastq.gz \\\n",
    "        clean-fastq/$SAMPLE/split-adapter-quality-trimmed/\"$SAMPLE\"-READ2.fastq.gz \\\n",
    "        >kraken2/$SAMPLE/\"$SAMPLE\"_kraken.tbl\n",
    "    #------------------\n",
    "\n",
    "done"
   ]
  },
  {
   "cell_type": "markdown",
   "id": "touched-range",
   "metadata": {},
   "source": [
    "Use the previous kraken runs from bartonella exp to get the bacillus reads"
   ]
  },
  {
   "cell_type": "code",
   "execution_count": 9,
   "id": "loving-sweet",
   "metadata": {
    "ExecuteTime": {
     "end_time": "2021-03-24T17:45:29.188381Z",
     "start_time": "2021-03-24T17:45:09.036035Z"
    }
   },
   "outputs": [],
   "source": [
    "#get the read ids\n",
    "for sample in [\"TK25656\"]:\n",
    "    \n",
    "    #short name\n",
    "    short_name=sample\n",
    "\n",
    "    #mkdir to save reads and read lists\n",
    "    pathlib.Path(\"/master/nplatt/patho_detect/results/extract_bacillus_from_TK25656/bacillus-reads/{}/\".format(short_name)).mkdir(parents=True, exist_ok=True)    \n",
    "\n",
    "    #get kraken table that lists reads with terminal taxa\n",
    "    results_tbl=\"/master/nplatt/patho_detect/results/extract_bartonella_loci/04_kraken2/{}/{}_kraken.tbl\".format(short_name, short_name)\n",
    "\n",
    "    #get reads ids that have target taxa hits\n",
    "    with open(results_tbl, 'r') as in_f:\n",
    "        with open(\"/master/nplatt/patho_detect/results/extract_bacillus_from_TK25656/bacillus-reads/{}/reads.txt\".format(short_name), 'w') as out_f:\n",
    "            for entry in in_f:\n",
    "                if \"bacillus\" in entry.lower():\n",
    "                    out_f.write(\"{}\\n\".format(entry.split(\"\\t\")[1]))\n",
    "                    "
   ]
  },
  {
   "cell_type": "code",
   "execution_count": 12,
   "id": "proud-absolute",
   "metadata": {
    "ExecuteTime": {
     "end_time": "2021-03-24T17:48:27.123073Z",
     "start_time": "2021-03-24T17:48:26.977369Z"
    }
   },
   "outputs": [],
   "source": [
    "#extract the reads\n",
    "            \n",
    "    \n",
    "samples_w_gt10k_reads = []\n",
    "for sample in [\"TK25656\"]:\n",
    "    \n",
    "    #short name\n",
    "    short_name=sample\n",
    "\n",
    "    for read in [\"1\", \"2\"]:\n",
    "        in_reads  = \"/master/nplatt/patho_detect/results/extract_bartonella_loci/03_clean-fastq/{}/split-adapter-quality-trimmed/{}-READ{}.fastq.gz\".format(short_name, short_name, read)\n",
    "        in_list   = \"/master/nplatt/patho_detect/results/extract_bacillus_from_TK25656/bacillus-reads/{}/reads.txt\".format(short_name)\n",
    "        out_reads = \"/master/nplatt/patho_detect/results/extract_bacillus_from_TK25656/bacillus-reads/{}/{}-READ{}.fastq\".format(short_name, short_name, read)\n",
    "\n",
    "        #count num reads (only proceed if greater than 10K)\n",
    "        count = len(open(in_list).readlines(  ))\n",
    "        \n",
    "        if count >= 10_000:\n",
    "            samples_w_gt10k_reads.append(short_name)\n",
    "            #extract reads with seqtk\n",
    "            cmd=\"seqtk subseq {} {} >{}\".format(in_reads, in_list, out_reads)\n",
    "            #!{cmd}\n",
    "            \n",
    "samples_w_gt10k_reads=list(set(samples_w_gt10k_reads))"
   ]
  },
  {
   "cell_type": "code",
   "execution_count": null,
   "id": "developing-berlin",
   "metadata": {},
   "outputs": [],
   "source": [
    "%%bash\n",
    "\n",
    "#gzip all of the fastq files\n",
    "for FASTQ in $(ls bacillus-reads/*/*-READ*.fastq); do \n",
    "    gzip $FASTQ & \n",
    "done"
   ]
  },
  {
   "cell_type": "markdown",
   "id": "chinese-outreach",
   "metadata": {},
   "source": [
    "### New heading"
   ]
  },
  {
   "cell_type": "markdown",
   "id": "binary-october",
   "metadata": {},
   "source": [
    "### Assemble Bacillus reads"
   ]
  },
  {
   "cell_type": "code",
   "execution_count": 16,
   "id": "beginning-treasury",
   "metadata": {
    "ExecuteTime": {
     "end_time": "2021-03-24T17:53:16.712570Z",
     "start_time": "2021-03-24T17:53:16.700431Z"
    }
   },
   "outputs": [],
   "source": [
    "#make phyluce assembly.conf\n",
    "with open(\"confs/assembly.conf\", 'w') as out_f:\n",
    "    out_f.write(\"[samples]\\n\")\n",
    "    \n",
    "    for sample in samples_w_gt10k_reads:\n",
    "        short_name=sample.split(\"_\")[0]\n",
    "        read_dir = \"/master/nplatt/patho_detect/results/extract_bacillus_from_TK25656/bacillus-reads/{}/\".format(short_name)\n",
    "        out_f.write(\"{}:{}\\n\".format(short_name, read_dir))"
   ]
  },
  {
   "cell_type": "code",
   "execution_count": null,
   "id": "pressing-signature",
   "metadata": {},
   "outputs": [],
   "source": [
    "%%bash \n",
    "\n",
    "#fun phyluce assembly with spades\n",
    "phyluce_assembly_assemblo_spades \\\n",
    "    --conf /master/nplatt/patho_detect/results/extract_bacillus_from_TK25656/confs/assembly.conf \\\n",
    "    --output /master/nplatt/patho_detect/results/extract_bacillus_from_TK25656/spades-assemblies \\\n",
    "    --cores 24 \\\n",
    "    --memory 768 \\\n",
    "    --log-path /master/nplatt/patho_detect/results/extract_bacillus_from_TK25656/logs "
   ]
  },
  {
   "cell_type": "code",
   "execution_count": null,
   "id": "micro-opinion",
   "metadata": {},
   "outputs": [],
   "source": [
    "%%bash\n",
    "\n",
    "#add genome uces to the assembly dir\n",
    "mkdir /master/nplatt/patho_detect/results/extract_bacillus_from_TK25656/all_assemblies\n",
    "\n",
    "cp /master/nplatt/patho_detect/results/extract_bacillus_from_TK25656/ncbi-genomes-uce-fasta/*.fasta all_assemblies/\n",
    "cp /master/nplatt/patho_detect/results/extract_bacillus_from_TK25656/spades-assemblies/contigs/*.fasta all_assemblies/\n",
    "\n",
    "rename .contigs.fasta .fasta all_assemblies/*.contigs.fasta"
   ]
  },
  {
   "cell_type": "markdown",
   "id": "satisfactory-washer",
   "metadata": {},
   "source": [
    "### Find UCE loci in assemblies"
   ]
  },
  {
   "cell_type": "code",
   "execution_count": null,
   "id": "inner-humor",
   "metadata": {},
   "outputs": [],
   "source": [
    "%%bash \n",
    "\n",
    "#find probed regions in assemblies\n",
    "phyluce_assembly_match_contigs_to_probes \\\n",
    "    --contigs /master/nplatt/patho_detect/results/extract_bacillus_from_TK25656/all_assemblies \\\n",
    "    --probes /master/nplatt/patho_detect/results/extract_bacillus_from_TK25656/bacillus_probes.fas \\\n",
    "    --min-identity 75 \\\n",
    "    --output /master/nplatt/patho_detect/results/extract_bacillus_from_TK25656/bacillus_uce-search-results \\\n",
    "    --log-path /master/nplatt/patho_detect/results/extract_bacillus_from_TK25656/logs "
   ]
  },
  {
   "cell_type": "markdown",
   "id": "temporal-philip",
   "metadata": {},
   "source": [
    "### Extract Loci"
   ]
  },
  {
   "cell_type": "code",
   "execution_count": 20,
   "id": "entitled-attendance",
   "metadata": {
    "ExecuteTime": {
     "end_time": "2021-03-24T20:54:27.827094Z",
     "start_time": "2021-03-24T20:54:27.814213Z"
    }
   },
   "outputs": [],
   "source": [
    "#make phyluce assembly.conf\n",
    "with open(\"confs/taxon-set.conf\", 'w') as out_f:\n",
    "    out_f.write(\"[all]\\n\")\n",
    "    for assembly in glob.glob(\"all_assemblies/*.fasta\"):\n",
    "        short_name=assembly.replace(\".fasta\", \"\").split(\"/\")[-1]\n",
    "        out_f.write(\"{}\\n\".format(short_name,))"
   ]
  },
  {
   "cell_type": "code",
   "execution_count": null,
   "id": "floral-footwear",
   "metadata": {},
   "outputs": [],
   "source": [
    "%%bash \n",
    "\n",
    "mkdir -p taxon-sets/all\n",
    "\n",
    "# create the data matrix configuration file\n",
    "phyluce_assembly_get_match_counts \\\n",
    "    --locus-db bacillus_uce-search-results/probe.matches.sqlite \\\n",
    "    --taxon-list-config confs/taxon-set.conf \\\n",
    "    --taxon-group 'all' \\\n",
    "    --incomplete-matrix \\\n",
    "    --output taxon-sets/all/all-taxa-incomplete.conf \\\n",
    "    --log-path /master/nplatt/patho_detect/results/extract_bacillus_from_TK25656/logs "
   ]
  },
  {
   "cell_type": "code",
   "execution_count": null,
   "id": "industrial-jungle",
   "metadata": {},
   "outputs": [],
   "source": [
    "cd taxon-sets/all\n",
    "\n",
    "# make a log directory to hold our log files - this keeps things neat\n",
    "\n",
    "# get FASTA data for taxa in our taxon set\n",
    "phyluce_assembly_get_fastas_from_match_counts \\\n",
    "    --contigs /master/nplatt/patho_detect/results/extract_bacillus_from_TK25656/all_assemblies  \\\n",
    "    --locus-db /master/nplatt/patho_detect/results/extract_bacillus_from_TK25656/bacillus_uce-search-results/probe.matches.sqlite \\\n",
    "    --match-count-output all-taxa-incomplete.conf \\\n",
    "    --output all-taxa-incomplete.fasta \\\n",
    "    --incomplete-matrix all-taxa-incomplete.incomplete \\\n",
    "    --log-path /master/nplatt/patho_detect/results/extract_bacillus_from_TK25656/logs "
   ]
  },
  {
   "cell_type": "code",
   "execution_count": null,
   "id": "technological-letter",
   "metadata": {},
   "outputs": [],
   "source": [
    "phyluce_assembly_explode_get_fastas_file \\\n",
    "    --input all-taxa-incomplete.fasta \\\n",
    "    --output exploded-fastas \\\n",
    "    --by-taxon\n",
    "    \n",
    "# get summary stats on the FASTAS\n",
    "echo \"samples,contigs,total bp,mean length,95 CI length,min length,max length,median legnth,contigs >1kb\">uce_stats.csv\n",
    "    \n",
    "for i in exploded-fastas/*.fasta; do\n",
    "    phyluce_assembly_get_fasta_lengths \\\n",
    "        --input $i \\\n",
    "        --csv\n",
    "done >>uce_stats.csv\n"
   ]
  },
  {
   "cell_type": "markdown",
   "id": "modular-harrison",
   "metadata": {},
   "source": [
    "### Align and trim loci"
   ]
  },
  {
   "cell_type": "code",
   "execution_count": null,
   "id": "certified-conviction",
   "metadata": {},
   "outputs": [],
   "source": [
    "# align the data\n",
    "phyluce_align_seqcap_align \\\n",
    "    --input all-taxa-incomplete.fasta \\\n",
    "    --output mafft-nexus-edge-trimmed \\\n",
    "    --taxa 4 \\\n",
    "    --aligner mafft \\\n",
    "    --cores 12 \\\n",
    "    --incomplete-matrix \\\n",
    "    --log-path /master/nplatt/patho_detect/results/extract_bacillus_from_TK25656/logs "
   ]
  },
  {
   "cell_type": "code",
   "execution_count": null,
   "id": "clean-stanley",
   "metadata": {},
   "outputs": [],
   "source": [
    "phyluce_align_seqcap_align \\\n",
    "    --input all-taxa-incomplete.fasta \\\n",
    "    --output mafft-nexus-internal-trimmed \\\n",
    "    --taxa 4 \\\n",
    "    --aligner mafft \\\n",
    "    --cores 12 \\\n",
    "    --incomplete-matrix \\\n",
    "    --output-format fasta \\\n",
    "    --no-trim \\\n",
    "    --log-path /master/nplatt/patho_detect/results/extract_bacillus_from_TK25656/logs "
   ]
  },
  {
   "cell_type": "code",
   "execution_count": null,
   "id": "younger-float",
   "metadata": {},
   "outputs": [],
   "source": [
    "phyluce_align_get_gblocks_trimmed_alignments_from_untrimmed \\\n",
    "    --alignments mafft-nexus-internal-trimmed \\\n",
    "    --output mafft-nexus-internal-trimmed-gblocks \\\n",
    "    --cores 12 \\\n",
    "    --log-path /master/nplatt/patho_detect/results/extract_bacillus_from_TK25656/logs "
   ]
  },
  {
   "cell_type": "code",
   "execution_count": null,
   "id": "critical-analysis",
   "metadata": {},
   "outputs": [],
   "source": [
    "phyluce_align_remove_locus_name_from_files \\\n",
    "    --alignments mafft-nexus-internal-trimmed-gblocks \\\n",
    "    --output mafft-nexus-internal-trimmed-gblocks-clean \\\n",
    "    --cores 12 \\\n",
    "    --log-path /master/nplatt/patho_detect/results/extract_bacillus_from_TK25656/logs "
   ]
  },
  {
   "cell_type": "code",
   "execution_count": null,
   "id": "polished-portsmouth",
   "metadata": {},
   "outputs": [],
   "source": [
    "phyluce_align_get_only_loci_with_min_taxa \\\n",
    "    --alignments mafft-nexus-internal-trimmed-gblocks-clean \\\n",
    "    --taxa 4 \\\n",
    "    --percent 0.25 \\\n",
    "    --output mafft-nexus-internal-trimmed-gblocks-clean-25p \\\n",
    "    --cores 12 \\\n",
    "    --log-path /master/nplatt/patho_detect/results/extract_bacillus_from_TK25656/logs "
   ]
  },
  {
   "cell_type": "code",
   "execution_count": null,
   "id": "adverse-packaging",
   "metadata": {
    "ExecuteTime": {
     "end_time": "2021-03-19T14:57:58.010345Z",
     "start_time": "2021-03-19T14:57:58.003479Z"
    }
   },
   "outputs": [],
   "source": [
    "phyluce_align_concatenate_alignments \\\n",
    "    --alignments mafft-nexus-internal-trimmed-gblocks-clean-25p \\\n",
    "    --output mafft-nexus-internal-trimmed-gblocks-clean-25p-raxml \\\n",
    "    --nexus \\\n",
    "    --log-path /master/nplatt/patho_detect/results/extract_bacillus_from_TK25656/logs"
   ]
  },
  {
   "cell_type": "code",
   "execution_count": null,
   "id": "historical-trouble",
   "metadata": {},
   "outputs": [],
   "source": [
    "mkdir /master/nplatt/patho_detect/results/extract_bacillus_from_TK25656/10_uce_alignments\n",
    "\n",
    "cp mafft-nexus-internal-trimmed-gblocks-clean-25p-raxml/mafft-nexus-internal-trimmed-gblocks-clean-25p-raxml* \\\n",
    "    /master/nplatt/patho_detect/results/extract_bacillus_from_TK25656/uce_alignments/"
   ]
  },
  {
   "cell_type": "code",
   "execution_count": null,
   "id": "sticky-economics",
   "metadata": {},
   "outputs": [],
   "source": [
    "phyluce_align_concatenate_alignments \\\n",
    "    --alignments mafft-nexus-internal-trimmed-gblocks-clean-25p \\\n",
    "    --output mafft-nexus-internal-trimmed-gblocks-clean-25p-raxml \\\n",
    "    --phylip \\\n",
    "    --log-path /master/nplatt/patho_detect/results/extract_bacillus_from_TK25656/logs "
   ]
  },
  {
   "cell_type": "code",
   "execution_count": null,
   "id": "native-asthma",
   "metadata": {},
   "outputs": [],
   "source": [
    "cp mafft-nexus-internal-trimmed-gblocks-clean-25p-raxml/mafft-nexus-internal-trimmed-gblocks-clean-25p-raxml* \\\n",
    "    /master/nplatt/patho_detect/results/extract_bacillus_from_TK25656/uce_alignments/"
   ]
  },
  {
   "cell_type": "markdown",
   "id": "careful-rochester",
   "metadata": {},
   "source": [
    "# ...go to bartonella_phylogenetics.ipynb"
   ]
  },
  {
   "cell_type": "code",
   "execution_count": null,
   "id": "naval-height",
   "metadata": {},
   "outputs": [],
   "source": [
    "cd /master/nplatt/patho_detect/results/extract_bacillus_from_TK25656\n",
    "\n",
    "raxml-ng \\\n",
    "    --all \\\n",
    "    --prefix 25pn_75pid_bacillus \\\n",
    "    --seed 12345 \\\n",
    "    --msa  /master/nplatt/patho_detect/results/extract_bacillus_from_TK25656/uce_alignments/mafft-nexus-internal-trimmed-gblocks-clean-25p-raxml.phylip \\\n",
    "    --msa-format PHYLIP \\\n",
    "    --data-type DNA \\\n",
    "    --model GTR+G \\\n",
    "    --tree pars{10} \\\n",
    "    --bs-trees 200 \\\n",
    "    --threads 24 \\\n",
    "    --workers 4"
   ]
  }
 ],
 "metadata": {
  "kernelspec": {
   "display_name": "Python 3",
   "language": "python",
   "name": "python3"
  },
  "language_info": {
   "codemirror_mode": {
    "name": "ipython",
    "version": 3
   },
   "file_extension": ".py",
   "mimetype": "text/x-python",
   "name": "python",
   "nbconvert_exporter": "python",
   "pygments_lexer": "ipython3",
   "version": "3.6.12"
  }
 },
 "nbformat": 4,
 "nbformat_minor": 5
}
