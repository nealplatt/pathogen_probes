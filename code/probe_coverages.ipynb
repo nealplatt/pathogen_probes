{
 "cells": [
  {
   "cell_type": "markdown",
   "id": "e9f46660-5818-44fb-b081-0fee33c2aa95",
   "metadata": {},
   "source": [
    "#run with pathogen_notebook conda env/jupyterlab kernel"
   ]
  },
  {
   "cell_type": "code",
   "execution_count": 1,
   "id": "1394a140-f6fe-4d73-9021-ab0d071f0649",
   "metadata": {
    "tags": []
   },
   "outputs": [],
   "source": [
    "import os\n",
    "import numpy as np\n",
    "import pandas as pd\n",
    "import matplotlib.pyplot as plt\n",
    "import gzip\n"
   ]
  },
  {
   "cell_type": "code",
   "execution_count": 2,
   "id": "c2b6593a-1114-4090-836e-883f0cec17e0",
   "metadata": {},
   "outputs": [],
   "source": [
    "os.chdir(\"/master/nplatt/pathogen_probes/results/seq_analyses/coverage\")"
   ]
  },
  {
   "cell_type": "code",
   "execution_count": null,
   "id": "a1b1e888-1e75-4e3c-9da1-bd783f05dceb",
   "metadata": {},
   "outputs": [],
   "source": [
    "conda activate calc_probe_coverage\n",
    "\n",
    "cd /master/nplatt/pathogen_probes/results/seq_analyses/coverage\n",
    "\n",
    "#get reads\n",
    "cp ../../seq_analyses/01_clean-fastq/*/split-adapter-quality-trimmed/c*.gz .\n",
    "\n",
    "#get genomes\n",
    "zcat ../../../data/genomes/trematoda/Schistosoma_mansoni_GCA_000237925.fas.gz            | cut -f1 -d\" \" >sm.fas\n",
    "zcat ../../../data/genomes/apicomplexa/Plasmodium_falciparum_GCA_000002765.fas.gz        | cut -f1 -d\" \" >pf.fas\n",
    "zcat ../../../data/genomes/apicomplexa/Plasmodium_vivax_GCF_000002415.fas.gz             | cut -f1 -d\" \" >pv.fas\n",
    "zcat ../../../data/genomes/mycobacterium/Mycobacterium_tuberculosis_GCF_000195955.fas.gz | cut -f1 -d\" \" >mt.fas\n",
    "\n",
    "samtools faidx sm.fas\n",
    "samtools faidx pf.fas\n",
    "samtools faidx pv.fas\n",
    "samtools faidx mt.fas\n",
    "\n",
    "#get probes\n",
    "cp ../../../final_probes_v1.1.fas .\n",
    "cat final_probes_v1.1.fas | paste - - | grep -i -e mycobacterium | sed 's/\\t/\\n/' >mycobacterium_probes.fas\n",
    "cat final_probes_v1.1.fas | paste - - | grep -i -e trematod | sed 's/\\t/\\n/' >trematoda_probes.fas\n",
    "cat final_probes_v1.1.fas | paste - - | grep -i -e apicomplexa | sed 's/\\t/\\n/' >plasmodium_probes.fas\n",
    "\n",
    "#get probe locations###################################################################################\n",
    "\n",
    "#for mt\n",
    "conda activate bbmap\n",
    "bbmap.sh \\\n",
    "    ref=mt.fas \\\n",
    "    in=mycobacterium_probes.fas \\\n",
    "    maxindel=10 \\\n",
    "    threads=48 \\\n",
    "    ambiguous=all \\\n",
    "    out=mycobacterium_probes.sam\n",
    "\n",
    "conda activate samtools\n",
    "\n",
    "samtools view -F4 -Sb mycobacterium_probes.sam | samtools sort - >mycobacterium_probes.bam\n",
    "samtools index mycobacterium_probes.bam\n",
    "\n",
    "conda activate bedtools\n",
    "bedtools bamtobed -i mycobacterium_probes.bam >mycobacterium_probes.bed\n",
    "bedtools merge -d 100 -i mycobacterium_probes.bed >mycobacterium_probes.merged.bed\n",
    "#49 loci\n",
    "\n",
    "\n",
    "#get probe locations for sm\n",
    "bbmap.sh \\\n",
    "    ref=sm.fas \\\n",
    "    in=trematoda_probes.fas \\\n",
    "    maxindel=10 \\\n",
    "    threads=48 \\\n",
    "    ambiguous=all \\\n",
    "    out=trematoda_probes.sam\n",
    "\n",
    "samtools view -F4 -Sb trematoda_probes.sam | samtools sort - >trematoda_probes.bam\n",
    "samtools index trematoda_probes.bam\n",
    "\n",
    "bedtools bamtobed -i trematoda_probes.bam >trematoda_probes.bed\n",
    "bedtools merge -d 100 -i trematoda_probes.bed >trematoda_probes.merged.bed\n",
    "#49 loci\n",
    "\n",
    "\n",
    "\n",
    "#get probe locations for pf\n",
    "bbmap.sh \\\n",
    "    ref=pf.fas \\\n",
    "    in=plasmodium_probes.fas \\\n",
    "    maxindel=10 \\\n",
    "    threads=48 \\\n",
    "    ambiguous=all \\\n",
    "    out=plasmodium_probes.sam\n",
    "\n",
    "samtools view -F4 -Sb plasmodium_probes.sam | samtools sort - >plasmodium_probes.bam\n",
    "samtools index plasmodium_probes.bam\n",
    "\n",
    "bedtools bamtobed -i plasmodium_probes.bam >plasmodium_probes.bed\n",
    "bedtools merge -d 100 -i plasmodium_probes.bed >plasmodium_probes.merged.bed\n",
    "#49 loci\n",
    "\n",
    "###################################################################################\n",
    "\n",
    "\n",
    "#map reads to reference genomes ###################################################################################\n",
    "\n",
    "for REF in mt pf sm; do\n",
    "    for SAMPLE in c1e_3p_control_enrich c1p_control_enrich c1p_control_no_enrich; do\n",
    "        echo ${REF} vs ${SAMPLE}\n",
    "        bbmap.sh \\\n",
    "            ref=${REF}.fas \\\n",
    "            in=${SAMPLE}-READ1.fastq.gz \\\n",
    "            in2=${SAMPLE}-READ2.fastq.gz \\\n",
    "            maxindel=10 \\\n",
    "            minid=0.85 \\\n",
    "            threads=48 \\\n",
    "            ambiguous=all \\\n",
    "            out=${SAMPLE}_VS_${REF}.sam\n",
    "\n",
    "        samtools view -F4 -Sb ${SAMPLE}_VS_${REF}.sam | samtools sort - >${SAMPLE}_VS_${REF}.bam\n",
    "        samtools index ${SAMPLE}_VS_${REF}.bam\n",
    "    done\n",
    "done\n",
    "\n",
    "# get coverages at target loci ###################################################################################\n",
    "\n",
    "#cp the probes just to standardize things\n",
    "cp mycobacterium_probes.merged.bed mt_probes.merged.bed \n",
    "cp plasmodium_probes.merged.bed  pf_probes.merged.bed\n",
    "cp trematoda_probes.merged.bed sm_probes.merged.bed\n",
    "\n",
    "\n",
    "for REF in mt pf sm; do\n",
    "    for SAMPLE in c1e_3p_control_enrich c1p_control_enrich c1p_control_no_enrich; do\n",
    "        mosdepth -b ${REF}_probes.merged.bed -t 4 -m ${SAMPLE}_VS_${REF} ${SAMPLE}_VS_${REF}.bam\n",
    "    done\n",
    "\n",
    "    gunzip *${REF}.regions.bed.gz\n",
    "\n",
    "    paste \\\n",
    "        c1p_control_no_enrich_VS_${REF}.regions.bed \\\n",
    "        c1e_3p_control_enrich_VS_${REF}.regions.bed \\\n",
    "        c1p_control_enrich_VS_${REF}.regions.bed \\\n",
    "        | cut -f1,2,3,4,8,12 \\\n",
    "            >tmp.tsv\n",
    "\n",
    "    echo -e \"chrom\\tstart\\tstop\\tc1p_control_no_enrich\\tc1e_3p_control_enrich\\tc1p_control_enrich\\n$(cat tmp.tsv)\" >${REF}_sample_loci_covs.tsv\n",
    "    rm tmp.tsv\n",
    "done\n",
    "\n",
    "\n",
    "################################################################\n",
    "\n",
    "#now get random coverages outside of probed regions (+- 500 bp)\n",
    "bedtools slop -g mt.fas.fai -i mycobacterium_probes.merged.bed -b 500 >mt_excl_loci.bed\n",
    "bedtools slop -g pf.fas.fai -i plasmodium_probes.merged.bed    -b 500 >pf_excl_loci.bed\n",
    "bedtools slop -g sm.fas.fai -i trematoda_probes.merged.bed     -b 500 >sm_excl_loci.bed\n",
    "\n",
    "#####\n",
    "for REF in mt pf sm; do\n",
    "    bedtools slop -g ${REF}.fas.fai -i ${REF}_probes.merged.bed -b 500 >${REF}_excl_loci.bed\n",
    "\n",
    "\n",
    "    for SAMPLE in c1e_3p_control_enrich c1p_control_enrich c1p_control_no_enrich; do\n",
    "        echo -e \"chrom\\tstart\\tstop\\tcov\">${REF}_VS_${SAMPLE}_random_loci_covs.bed\n",
    "        for i in $(seq 1 100); do\n",
    "            echo $SAMPLE: $i\n",
    "            bedtools shuffle -seed $RANDOM -i ${REF}_probes.merged.bed -g ${REF}.fas.fai -noOverlapping -excl ${REF}_excl_loci.bed >shuff.bed\n",
    "\n",
    "            mosdepth -b shuff.bed -t 4 -m random ${SAMPLE}_VS_${REF}.bam\n",
    "            zcat random.regions.bed.gz >>${REF}_VS_${SAMPLE}_random_loci_covs.bed\n",
    "        done\n",
    "    done\n",
    "\n",
    "    paste \\\n",
    "        ${REF}_VS_c1p_control_no_enrich_random_loci_covs.bed \\\n",
    "        ${REF}_VS_c1e_3p_control_enrich_random_loci_covs.bed \\\n",
    "        ${REF}_VS_c1p_control_enrich_random_loci_covs.bed \\\n",
    "        | cut -f4,8,12 \\\n",
    "        >tmp.tsv\n",
    "\n",
    "    echo -e \"c1p_control_no_enrich\\tc1e_3p_control_enrich\\tc1p_control_enrich\\n$(cat tmp.tsv | sed 1d)\" >${REF}_random_loci_covs.tsv\n",
    "    rm tmp.tsv\n",
    "done\n",
    "\n"
   ]
  },
  {
   "cell_type": "code",
   "execution_count": 3,
   "id": "ba1651b5-1574-4d1c-a146-7a5352f36944",
   "metadata": {},
   "outputs": [],
   "source": [
    "#read in raw data from random and actual coverages trials\n",
    "\n",
    "#real data\n",
    "mt_samp_df = pd.read_csv(\"mt_sample_loci_covs.tsv\", sep=\"\\t\", header=0)\n",
    "sm_samp_df = pd.read_csv(\"sm_sample_loci_covs.tsv\", sep=\"\\t\", header=0)\n",
    "pf_samp_df = pd.read_csv(\"pf_sample_loci_covs.tsv\", sep=\"\\t\", header=0)\n",
    "\n",
    "#random data\n",
    "mt_rand_df = pd.read_csv(\"mt_random_loci_covs.tsv\", sep=\"\\t\", header=0)\n",
    "sm_rand_df = pd.read_csv(\"sm_random_loci_covs.tsv\", sep=\"\\t\", header=0)\n",
    "pf_rand_df = pd.read_csv(\"pf_random_loci_covs.tsv\", sep=\"\\t\", header=0)"
   ]
  },
  {
   "cell_type": "code",
   "execution_count": 11,
   "id": "7c78a5e0-497e-4a8d-b61d-f87edca3309c",
   "metadata": {},
   "outputs": [
    {
     "data": {
      "image/png": "[encoded data removed]",
      "text/plain": [
       "<Figure size 432x288 with 1 Axes>"
      ]
     },
     "metadata": {
      "needs_background": "light"
     },
     "output_type": "display_data"
    },
    {
     "name": "stdout",
     "output_type": "stream",
     "text": [
      "Mean Cov of mycobacterium loci increased from 0.14x to 944.45x in the 1% samples\n"
     ]
    }
   ],
   "source": [
    "#mycobacterium\n",
    "\n",
    "a = list(mt_rand_df[\"c1p_control_enrich\"])\n",
    "b = list(mt_samp_df[\"c1p_control_no_enrich\"])\n",
    "c = list(mt_samp_df[\"c1e_3p_control_enrich\"])\n",
    "d = list(mt_samp_df[\"c1p_control_enrich\"])\n",
    "\n",
    "a_jitter=np.random.uniform(low=-0.2, high=0.2, size=(len(a),))\n",
    "b_jitter=np.random.uniform(low= 0.8, high=1.2, size=(len(b),))\n",
    "c_jitter=np.random.uniform(low= 1.8, high=2.2, size=(len(b),))\n",
    "d_jitter=np.random.uniform(low= 2.8, high=3.2, size=(len(b),))\n",
    "\n",
    "\n",
    "a_mean=np.median(a)\n",
    "b_mean=np.median(b)\n",
    "c_mean=np.median(c)\n",
    "d_mean=np.median(d)\n",
    "\n",
    "#plt.boxplot([a, b, c, d])\n",
    "plt.scatter(x=a_jitter, y=a, alpha=0.35, color=\"grey\", edgecolors=\"black\")\n",
    "plt.scatter(x=b_jitter, y=b, alpha=0.35, color=\"grey\", edgecolors=\"black\")\n",
    "plt.scatter(x=c_jitter, y=c, alpha=0.35, color=\"grey\", edgecolors=\"black\")\n",
    "plt.scatter(x=d_jitter, y=d, alpha=0.35, color=\"grey\", edgecolors=\"black\")\n",
    "plt.xticks(ticks=[0, 1, 2, 3], labels=[\"Random\", \"1%\", \"0.001% E\", \"1% E\"], size=12, rotation=0)\n",
    "plt.ylabel(\"Mean coverage per locus\", size=14)\n",
    "plt.xlabel(\"Samples\", size=14)\n",
    "plt.yscale('symlog')\n",
    "plt.ylim([-0.1,max(d)*2])\n",
    "\n",
    "#plot means\n",
    "# plt.plot([-0.2, 0.2], [a_mean, a_mean], color='red', linestyle=\"dotted\", linewidth=4)\n",
    "# plt.plot([ 0.8, 1.2], [b_mean, b_mean], color='red', linestyle=\"dotted\", linewidth=4)\n",
    "# plt.plot([ 1.8, 2.2], [c_mean, c_mean], color='red', linestyle=\"dotted\", linewidth=4)\n",
    "# plt.plot([ 2.8, 3.2], [d_mean, d_mean], color='red', linestyle=\"dotted\", linewidth=4)\n",
    "\n",
    "box_plot_data=[a,b,c,d]\n",
    "plt.boxplot(box_plot_data, positions=[0,1,2,3], showfliers=False)\n",
    "plt.xticks(ticks=[0, 1, 2, 3], labels=[\"Random\", \"1%\", \"0.001% E\", \"1% E\"], size=12, rotation=0)\n",
    "\n",
    "#plt.savefig('mycobacterium_coverages.svg', facecolor=\"white\")\n",
    "plt.show()\n",
    "\n",
    "plt.close()\n",
    "\n",
    "print(\"Mean Cov of mycobacterium loci increased from {:.2f}x to {:.2f}x in the 1% samples\".format(np.mean(b), np.mean(d)))"
   ]
  },
  {
   "cell_type": "code",
   "execution_count": 12,
   "id": "652375fd-c3ba-4300-8c63-caa82fad7d40",
   "metadata": {},
   "outputs": [],
   "source": [
    "bs=[]\n",
    "ds=[]\n",
    "bs.extend(b)\n",
    "ds.extend(d)"
   ]
  },
  {
   "cell_type": "code",
   "execution_count": 13,
   "id": "79e3a9d2-2406-4882-a38a-9c2304860c81",
   "metadata": {},
   "outputs": [
    {
     "data": {
      "image/png": "[encoded data removed]",
      "text/plain": [
       "<Figure size 432x288 with 1 Axes>"
      ]
     },
     "metadata": {
      "needs_background": "light"
     },
     "output_type": "display_data"
    },
    {
     "name": "stdout",
     "output_type": "stream",
     "text": [
      "Mean Cov of Schistosoma loci increased from 0.02x to 117.92x in the 1% samples\n"
     ]
    }
   ],
   "source": [
    "#mycobacterium\n",
    "\n",
    "a = list(sm_rand_df[\"c1p_control_enrich\"])\n",
    "b = list(sm_samp_df[\"c1p_control_no_enrich\"])\n",
    "c = list(sm_samp_df[\"c1e_3p_control_enrich\"])\n",
    "d = list(sm_samp_df[\"c1p_control_enrich\"])\n",
    "\n",
    "a_jitter=np.random.uniform(low=-0.2, high=0.2, size=(len(a),))\n",
    "b_jitter=np.random.uniform(low= 0.8, high=1.2, size=(len(b),))\n",
    "c_jitter=np.random.uniform(low= 1.8, high=2.2, size=(len(b),))\n",
    "d_jitter=np.random.uniform(low= 2.8, high=3.2, size=(len(b),))\n",
    "\n",
    "a_mean=np.median(a)\n",
    "b_mean=np.median(b)\n",
    "c_mean=np.median(c)\n",
    "d_mean=np.median(d)\n",
    "\n",
    "#plt.boxplot([a, b, c, d])\n",
    "plt.scatter(x=a_jitter, y=a, alpha=0.35, color=\"grey\", edgecolors=\"black\")\n",
    "plt.scatter(x=b_jitter, y=b, alpha=0.35, color=\"grey\", edgecolors=\"black\")\n",
    "plt.scatter(x=c_jitter, y=c, alpha=0.35, color=\"grey\", edgecolors=\"black\")\n",
    "plt.scatter(x=d_jitter, y=d, alpha=0.35, color=\"grey\", edgecolors=\"black\")\n",
    "plt.xticks(ticks=[0, 1, 2, 3], labels=[\"Random\", \"1%\", \"0.001% E\", \"1% E\"], size=12, rotation=0)\n",
    "plt.ylabel(\"Mean coverage per locus\", size=14)\n",
    "plt.xlabel(\"Samples\", size=14)\n",
    "plt.yscale('symlog')\n",
    "plt.ylim([-0.1,max(d)*2])\n",
    "\n",
    "#plot means\n",
    "# plt.plot([-0.2, 0.2], [a_mean, a_mean], color='red', linestyle=\"dotted\", linewidth=4)\n",
    "# plt.plot([ 0.8, 1.2], [b_mean, b_mean], color='red', linestyle=\"dotted\", linewidth=4)\n",
    "# plt.plot([ 1.8, 2.2], [c_mean, c_mean], color='red', linestyle=\"dotted\", linewidth=4)\n",
    "# plt.plot([ 2.8, 3.2], [d_mean, d_mean], color='red', linestyle=\"dotted\", linewidth=4)\n",
    "\n",
    "box_plot_data=[a,b,c,d]\n",
    "plt.boxplot(box_plot_data, positions=[0,1,2,3], showfliers=False)\n",
    "plt.xticks(ticks=[0, 1, 2, 3], labels=[\"Random\", \"1%\", \"0.001% E\", \"1% E\"], size=12, rotation=0)\n",
    "\n",
    "\n",
    "plt.savefig('schistosoma_coverages.svg', facecolor=\"white\")\n",
    "plt.show()\n",
    "\n",
    "plt.close()\n",
    "\n",
    "print(\"Mean Cov of Schistosoma loci increased from {:.2f}x to {:.2f}x in the 1% samples\".format(np.mean(b), np.mean(d)))"
   ]
  },
  {
   "cell_type": "code",
   "execution_count": 14,
   "id": "47686b40-fa7f-4586-bc80-f8cd98de2ccb",
   "metadata": {},
   "outputs": [],
   "source": [
    "bs.extend(b)\n",
    "ds.extend(d)"
   ]
  },
  {
   "cell_type": "code",
   "execution_count": 15,
   "id": "6e33c583-8af3-43a9-a92e-aff8ce20c572",
   "metadata": {},
   "outputs": [
    {
     "data": {
      "image/png": "[encoded data removed]",
      "text/plain": [
       "<Figure size 432x288 with 1 Axes>"
      ]
     },
     "metadata": {
      "needs_background": "light"
     },
     "output_type": "display_data"
    },
    {
     "name": "stdout",
     "output_type": "stream",
     "text": [
      "Mean Cov of Plasmodium loci increased from 0.53x to 1527.39x in the 1% samples\n"
     ]
    }
   ],
   "source": [
    "#mycobacterium\n",
    "\n",
    "a = list(pf_rand_df[\"c1p_control_enrich\"])\n",
    "b = list(pf_samp_df[\"c1p_control_no_enrich\"])\n",
    "c = list(pf_samp_df[\"c1e_3p_control_enrich\"])\n",
    "d = list(pf_samp_df[\"c1p_control_enrich\"])\n",
    "\n",
    "a_jitter=np.random.uniform(low=-0.2, high=0.2, size=(len(a),))\n",
    "b_jitter=np.random.uniform(low= 0.8, high=1.2, size=(len(b),))\n",
    "c_jitter=np.random.uniform(low= 1.8, high=2.2, size=(len(b),))\n",
    "d_jitter=np.random.uniform(low= 2.8, high=3.2, size=(len(b),))\n",
    "\n",
    "\n",
    "a_mean=np.median(a)\n",
    "b_mean=np.median(b)\n",
    "c_mean=np.median(c)\n",
    "d_mean=np.median(d)\n",
    "\n",
    "#plt.boxplot([a, b, c, d])\n",
    "plt.scatter(x=a_jitter, y=a, alpha=0.35, color=\"grey\", edgecolors=\"black\")\n",
    "plt.scatter(x=b_jitter, y=b, alpha=0.35, color=\"grey\", edgecolors=\"black\")\n",
    "plt.scatter(x=c_jitter, y=c, alpha=0.35, color=\"grey\", edgecolors=\"black\")\n",
    "plt.scatter(x=d_jitter, y=d, alpha=0.35, color=\"grey\", edgecolors=\"black\")\n",
    "plt.xticks(ticks=[0, 1, 2, 3], labels=[\"Random\", \"1%\", \"0.001% E\", \"1% E\"], size=12, rotation=0)\n",
    "plt.ylabel(\"Mean coverage per locus\", size=14)\n",
    "plt.xlabel(\"Samples\", size=14)\n",
    "plt.yscale('symlog')\n",
    "plt.ylim([-0.1,max(d)*2])\n",
    "\n",
    "#plot means\n",
    "# plt.plot([-0.2, 0.2], [a_mean, a_mean], color='red', linestyle=\"dotted\", linewidth=4)\n",
    "# plt.plot([ 0.8, 1.2], [b_mean, b_mean], color='red', linestyle=\"dotted\", linewidth=4)\n",
    "# plt.plot([ 1.8, 2.2], [c_mean, c_mean], color='red', linestyle=\"dotted\", linewidth=4)\n",
    "# plt.plot([ 2.8, 3.2], [d_mean, d_mean], color='red', linestyle=\"dotted\", linewidth=4)\n",
    "\n",
    "box_plot_data=[a,b,c,d]\n",
    "plt.boxplot(box_plot_data, positions=[0,1,2,3], showfliers=False)\n",
    "plt.xticks(ticks=[0, 1, 2, 3], labels=[\"Random\", \"1%\", \"0.001% E\", \"1% E\"], size=12, rotation=0)\n",
    "\n",
    "\n",
    "plt.savefig('plasmodium_coverages.svg', facecolor=\"white\")\n",
    "plt.show()\n",
    "plt.close()\n",
    "\n",
    "print(\"Mean Cov of Plasmodium loci increased from {:.2f}x to {:.2f}x in the 1% samples\".format(np.mean(b), np.mean(d)))"
   ]
  },
  {
   "cell_type": "code",
   "execution_count": 16,
   "id": "967851f7-280c-41c6-81c0-cc931e042d06",
   "metadata": {},
   "outputs": [],
   "source": [
    "bs.extend(b)\n",
    "ds.extend(d)"
   ]
  },
  {
   "cell_type": "code",
   "execution_count": 24,
   "id": "162303d4-0e97-4d01-8e4e-db1ac7d0fdd2",
   "metadata": {},
   "outputs": [
    {
     "data": {
      "text/plain": [
       "0.23129251700680273"
      ]
     },
     "execution_count": 24,
     "metadata": {},
     "output_type": "execute_result"
    }
   ],
   "source": [
    "np.mean(ds)"
   ]
  },
  {
   "cell_type": "code",
   "execution_count": 25,
   "id": "439a52e7-9725-4e99-8898-9ac7685af413",
   "metadata": {},
   "outputs": [
    {
     "data": {
      "text/plain": [
       "863.2517006802722"
      ]
     },
     "execution_count": 25,
     "metadata": {},
     "output_type": "execute_result"
    }
   ],
   "source": [
    "np.mean(ds)"
   ]
  },
  {
   "cell_type": "code",
   "execution_count": 27,
   "id": "b7ea6a6f-9982-4b42-a06e-dce91c10b8a8",
   "metadata": {},
   "outputs": [
    {
     "data": {
      "text/plain": [
       "3732.294117647059"
      ]
     },
     "execution_count": 27,
     "metadata": {},
     "output_type": "execute_result"
    }
   ],
   "source": [
    "np.mean(ds)/np.mean(bs)"
   ]
  },
  {
   "cell_type": "code",
   "execution_count": 144,
   "id": "d971d4f6-ecf6-4635-8d55-5bc29fea9a72",
   "metadata": {},
   "outputs": [],
   "source": [
    "genome_length=4_411_532\n",
    "loc_start=2_374_354\n",
    "loc_stop=2_374_989\n",
    "probe_start=2_374_648\n",
    "probe_stop=2_374_781"
   ]
  },
  {
   "cell_type": "code",
   "execution_count": 174,
   "id": "05a24a4b-8260-4d32-8a8c-88e29931e30b",
   "metadata": {},
   "outputs": [
    {
     "name": "stdout",
     "output_type": "stream",
     "text": [
      "median probe cov = 8.0\n"
     ]
    },
    {
     "data": {
      "image/png": "[encoded data removed]",
      "text/plain": [
       "<Figure size 1440x216 with 1 Axes>"
      ]
     },
     "metadata": {
      "needs_background": "light"
     },
     "output_type": "display_data"
    },
    {
     "name": "stdout",
     "output_type": "stream",
     "text": [
      "median probe cov = 1278.0\n"
     ]
    },
    {
     "data": {
      "image/png": "[encoded data removed]",
      "text/plain": [
       "<Figure size 1440x216 with 1 Axes>"
      ]
     },
     "metadata": {
      "needs_background": "light"
     },
     "output_type": "display_data"
    },
    {
     "name": "stdout",
     "output_type": "stream",
     "text": [
      "median probe cov = 1.0\n"
     ]
    },
    {
     "data": {
      "image/png": "[encoded data removed]",
      "text/plain": [
       "<Figure size 1440x216 with 1 Axes>"
      ]
     },
     "metadata": {
      "needs_background": "light"
     },
     "output_type": "display_data"
    }
   ],
   "source": [
    "ref=\"mt\"\n",
    "samples = [ \"c1e_3p_control_enrich\", \"c1p_control_enrich\", \"c1p_control_no_enrich\"]\n",
    "\n",
    "for sample in samples:\n",
    "    sam_ref=\"{}_VS_{}\".format(sample, ref)\n",
    "    covs=[0]*(genome_length+1)\n",
    "\n",
    "    with gzip.open('{}.per-base.bed.gz'.format(sam_ref),'rt') as modepth_file:        \n",
    "\n",
    "        for base_line in modepth_file: \n",
    "            #print(base_line)\n",
    "            chrom, cov_start, cov_end, cov = base_line.rstrip().split(\"\\t\")\n",
    "            for site in range(int(cov_start), int(cov_end)+1):\n",
    "                covs[site]=int(cov)\n",
    "\n",
    "            #x_pos = np.arange(len(covs))\n",
    "   \n",
    "    #plot whole genome coverage\n",
    "    fig = plt.gcf() \n",
    "    fig.set_size_inches(20, 3) \n",
    "    \n",
    "   \n",
    "    target_covs=covs[loc_start: loc_stop]\n",
    "    x_pos=list(range(0, len(target_covs)))\n",
    "    \n",
    "    colors=len(x_pos)*[\"black\"]\n",
    "\n",
    "    probe_len=probe_stop - probe_start + 1\n",
    "    probe_x_start=probe_start - loc_start + 1\n",
    "    colors = colors[:probe_x_start] + [\"blue\"]*probe_len + colors[probe_x_start+probe_len:]\n",
    "\n",
    "    plt.bar(x_pos, target_covs, color=colors)\n",
    "    plt.xticks(ticks=x_pos[::100], labels=np.add(x_pos, loc_start)[::100])\n",
    "    #plt.xlim(loc_start, loc_stop)\n",
    "    \n",
    "    y_max=int((np.max(target_covs)+1)*1.05)\n",
    "    plt.ylim(0, y_max)\n",
    "\n",
    "        \n",
    "    plt.ylabel(\"Coverage\".format(sample), size=12)\n",
    "    plt.xlabel(\"M. tuberculosis genome position (AL123456.3)\", size=12)\n",
    "    plt.title(\"{}\".format(sample))\n",
    "\n",
    "    plt.savefig(\"{}_locus_coverage.svg\".format(sample))\n",
    "    plt.savefig(\"{}_locus_coverage.png\".format(sample))\n",
    "\n",
    "    print(\"median probe cov = {}\".format(np.median(covs[probe_start:probe_stop])))\n",
    "    plt.show()\n",
    "    plt.close()"
   ]
  }
 ],
 "metadata": {
  "kernelspec": {
   "display_name": "pathogen_notebook",
   "language": "python",
   "name": "pathogen_notebook"
  },
  "language_info": {
   "codemirror_mode": {
    "name": "ipython",
    "version": 3
   },
   "file_extension": ".py",
   "mimetype": "text/x-python",
   "name": "python",
   "nbconvert_exporter": "python",
   "pygments_lexer": "ipython3",
   "version": "3.10.4"
  }
 },
 "nbformat": 4,
 "nbformat_minor": 5
}
